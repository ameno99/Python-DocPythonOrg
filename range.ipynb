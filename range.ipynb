{
 "cells": [
  {
   "cell_type": "markdown",
   "metadata": {},
   "source": []
  },
  {
   "cell_type": "code",
   "execution_count": 13,
   "metadata": {},
   "outputs": [],
   "source": [
    "import math as mt"
   ]
  },
  {
   "cell_type": "markdown",
   "metadata": {},
   "source": [
    "# Range"
   ]
  },
  {
   "cell_type": "markdown",
   "metadata": {},
   "source": [
    "### The range() fucntion\n",
    "If you do need to iterate over a sequence of numbers, the built-in fucntion _range_() comes in handy. It generates arithmetic progression "
   ]
  },
  {
   "cell_type": "code",
   "execution_count": 2,
   "metadata": {
    "tags": []
   },
   "outputs": [
    {
     "output_type": "stream",
     "name": "stdout",
     "text": "0 1 2 3 4"
    }
   ],
   "source": [
    "for i in range(5):\n",
    "    print(i,end=\" \")"
   ]
  },
  {
   "cell_type": "markdown",
   "metadata": {},
   "source": [
    "The given end point is never part of the generated sequence; _rang_(n) generates n values form 0 to _n-1_.\n",
    "It is possible to let the _range_ step differerent from 1."
   ]
  },
  {
   "cell_type": "code",
   "execution_count": 7,
   "metadata": {
    "tags": []
   },
   "outputs": [
    {
     "output_type": "stream",
     "name": "stdout",
     "text": "10 11 12 13 14 15 16 17 18 19"
    }
   ],
   "source": [
    "for i in range(10,20):\n",
    "    print(i,end=\" \")"
   ]
  },
  {
   "cell_type": "code",
   "execution_count": 8,
   "metadata": {
    "tags": []
   },
   "outputs": [
    {
     "output_type": "stream",
     "name": "stdout",
     "text": "-30 -90 -150 -210 -270 -330 -390 -450 -510 -570"
    }
   ],
   "source": [
    "for i in range(-30,-600,-60):\n",
    "    print(i,end=\" \")"
   ]
  },
  {
   "cell_type": "code",
   "execution_count": 2,
   "metadata": {
    "tags": []
   },
   "outputs": [
    {
     "output_type": "stream",
     "name": "stdout",
     "text": "0 Mary\n1 had\n2 a\n3 little\n4 lamb\n"
    }
   ],
   "source": [
    "a=['Mary','had','a','little', 'lamb']\n",
    "for i in range(len(a)):\n",
    "    print(i,a[i])"
   ]
  },
  {
   "cell_type": "code",
   "execution_count": 5,
   "metadata": {
    "tags": []
   },
   "outputs": [
    {
     "output_type": "stream",
     "name": "stdout",
     "text": "(0, 'Mary')\n(1, 'had')\n(2, 'a')\n(3, 'little')\n(4, 'lamb')\n"
    }
   ],
   "source": [
    "for elm in enumerate(a):\n",
    "    print(elm)"
   ]
  },
  {
   "cell_type": "markdown",
   "metadata": {},
   "source": [
    "The object returned by _range()_ behaves as if it is a list , but in fact it is not. It is an object which returns the successive items of the desired sequence when you iterate over it, thus saves space. "
   ]
  },
  {
   "cell_type": "code",
   "execution_count": 9,
   "metadata": {},
   "outputs": [
    {
     "output_type": "execute_result",
     "data": {
      "text/plain": "[0, 3, 6, 9, 12, 15, 18]"
     },
     "metadata": {},
     "execution_count": 9
    }
   ],
   "source": [
    "liste=list(range(0,21,3))\n",
    "liste"
   ]
  },
  {
   "cell_type": "markdown",
   "metadata": {},
   "source": [
    "# Break and continue statements and else Clauses on loops"
   ]
  },
  {
   "cell_type": "code",
   "execution_count": 15,
   "metadata": {
    "tags": []
   },
   "outputs": [
    {
     "output_type": "stream",
     "name": "stdout",
     "text": "2 is prime number\n3 is prime number\n4 is prime number\n5 is prime number\n6 = 2 * 3\n7 is prime number\n8 = 2 * 4\n9 is prime number\n10 = 2 * 5\n11 is prime number\n12 = 2 * 6\n13 is prime number\n14 = 2 * 7\n15 = 3 * 5\n16 = 2 * 8\n17 is prime number\n18 = 2 * 9\n19 is prime number\n"
    }
   ],
   "source": [
    "for n in range(2, 20):\n",
    "    for x in range(2,mt.ceil(mt.sqrt(n))):\n",
    "        if n%x==0:\n",
    "            print(n,'=',x,\"*\",n//x)\n",
    "            break\n",
    "    else:\n",
    "        print(n,'is prime number')\n",
    "    \n"
   ]
  },
  {
   "cell_type": "markdown",
   "metadata": {},
   "source": [
    "The break statement terminate a _while_ or a for _loop_ when executes within its body. More formally, if applied within nested control stuctures it causes the termination of the most immmediately enclosing loop.When used in a loop the _else_ clause has more in common with the _else_ of a try statement than it does with that of _if_. It runs when no break occurs."
   ]
  },
  {
   "cell_type": "code",
   "execution_count": 16,
   "metadata": {},
   "outputs": [],
   "source": [
    "def find(target,data):\n",
    "    for elm in data:\n",
    "        if elm==target:\n",
    "            return True\n",
    "    return False\n"
   ]
  },
  {
   "cell_type": "code",
   "execution_count": 20,
   "metadata": {},
   "outputs": [
    {
     "output_type": "execute_result",
     "data": {
      "text/plain": "(True, False)"
     },
     "metadata": {},
     "execution_count": 20
    }
   ],
   "source": [
    "find(target=3,data=list(range(8))),find(target=9,data=list(range(8)))\n",
    "\n"
   ]
  },
  {
   "cell_type": "markdown",
   "metadata": {},
   "source": [
    "Python also supports a _continue_ statement that causes the current iteration of a loop body to stop."
   ]
  },
  {
   "cell_type": "code",
   "execution_count": null,
   "metadata": {},
   "outputs": [],
   "source": []
  }
 ],
 "metadata": {
  "language_info": {
   "codemirror_mode": {
    "name": "ipython",
    "version": 3
   },
   "file_extension": ".py",
   "mimetype": "text/x-python",
   "name": "python",
   "nbconvert_exporter": "python",
   "pygments_lexer": "ipython3",
   "version": 3
  },
  "orig_nbformat": 2,
  "kernelspec": {
   "name": "python_defaultSpec_1595962358049",
   "display_name": "Python 3.6.9 64-bit"
  }
 },
 "nbformat": 4,
 "nbformat_minor": 2
}