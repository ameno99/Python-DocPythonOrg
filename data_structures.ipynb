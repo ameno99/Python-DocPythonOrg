{
 "metadata": {
  "language_info": {
   "codemirror_mode": {
    "name": "ipython",
    "version": 3
   },
   "file_extension": ".py",
   "mimetype": "text/x-python",
   "name": "python",
   "nbconvert_exporter": "python",
   "pygments_lexer": "ipython3",
   "version": "3.8.0-final"
  },
  "orig_nbformat": 2,
  "kernelspec": {
   "name": "python_defaultSpec_1599298993729",
   "display_name": "Python 3.8.0 64-bit"
  }
 },
 "nbformat": 4,
 "nbformat_minor": 2,
 "cells": [
  {
   "cell_type": "markdown",
   "metadata": {},
   "source": [
    "## LISTES"
   ]
  },
  {
   "cell_type": "markdown",
   "metadata": {},
   "source": [
    "The most fundemental sequence type used in python is _list_. Lists are mutable and mixed-type. "
   ]
  },
  {
   "cell_type": "markdown",
   "metadata": {},
   "source": [
    "The list data type has multiple methods. Here are all of the methods of _list_ objects.\n",
    "* _list.append(x)_ : add item to the end of the _list_\n",
    "\n",
    "* _list.extend(iterable)_ :extnd the _list_ by appendding all the items from the itreable\n",
    "\n",
    "* _list.insert(i,x)_ : insert an item at given position. The first argument is the index of the element before which to insert. So *a.insert(0,x)* insert _x_ at the front of the _list_ , and _a.insert(len(a),x)_ is equivalent to _a.append(x)_\n",
    "\n",
    "* _list.remove(x)_ : remove the first item from the _list_ whose values is equal to _x_. It raises a _ValueError if the there is no such item.\n",
    "\n",
    "* _list.pop(\\[i\\])_: remove the item at the given position in the _list_ and return it. If no index is given _a.pop()_ remove and return the last element of the _list_ (With _pop_ method: Last in first out)\n",
    "\n",
    "* _list.clear()_ : remove all items from the _list_. This method is equivalent to  _del_ a\\[:]\n",
    "\n",
    "* _list.index(x,\\[,start\\[,end]])_ return zero_based index in the _list_ of the the first value whose value is equal to *x*. Raises a value _ValueError_ if there is no such item.\n",
    "\n",
    "* _list.sort(key=none, reverse=False)_ : sort the item of the _list_ in place\n",
    "\n",
    "* _list.reverse()_: reverse items ot*f the _list_ in place\n",
    "\n",
    "* _list.copy()_ : return a shallow copy of the _list_. equivalent to *a\\[:]*\n",
    "\n",
    "* _list.count(x)_ : return the number of times _x_ appears in the _list_.\n",
    "\n",
    "\n",
    "## Examples \n"
   ]
  },
  {
   "cell_type": "code",
   "execution_count": 55,
   "metadata": {},
   "outputs": [],
   "source": [
    "age=[12,45,24,1,24,4,57,51,15,14,16,24,15,17,48,18,15,12,11,45,12,6,79,54,34,15,1]"
   ]
  },
  {
   "cell_type": "code",
   "execution_count": 56,
   "metadata": {},
   "outputs": [
    {
     "output_type": "execute_result",
     "data": {
      "text/plain": "4"
     },
     "metadata": {},
     "execution_count": 56
    }
   ],
   "source": [
    "age.count(15)"
   ]
  },
  {
   "cell_type": "code",
   "execution_count": 57,
   "metadata": {},
   "outputs": [
    {
     "output_type": "execute_result",
     "data": {
      "text/plain": "(15, 3)"
     },
     "metadata": {},
     "execution_count": 57
    }
   ],
   "source": [
    "age.index(18),age.index(1,3,len(age))"
   ]
  },
  {
   "cell_type": "code",
   "execution_count": 58,
   "metadata": {
    "tags": []
   },
   "outputs": [],
   "source": [
    "age.remove(1)"
   ]
  },
  {
   "cell_type": "code",
   "execution_count": 59,
   "metadata": {
    "tags": []
   },
   "outputs": [
    {
     "output_type": "stream",
     "name": "stdout",
     "text": "[12, 45, 24, 24, 4, 57, 51, 15, 14, 16, 24, 15, 17, 48, 18, 15, 12, 11, 45, 12, 6, 79, 54, 34, 15, 1]\n"
    }
   ],
   "source": [
    "print(age)"
   ]
  },
  {
   "cell_type": "code",
   "execution_count": 60,
   "metadata": {
    "tags": []
   },
   "outputs": [],
   "source": [
    "age.reverse()"
   ]
  },
  {
   "cell_type": "code",
   "execution_count": 61,
   "metadata": {
    "tags": []
   },
   "outputs": [
    {
     "output_type": "stream",
     "name": "stdout",
     "text": "[1, 15, 34, 54, 79, 6, 12, 45, 11, 12, 15, 18, 48, 17, 15, 24, 16, 14, 15, 51, 57, 4, 24, 24, 45, 12]\n"
    }
   ],
   "source": [
    "print(age)"
   ]
  },
  {
   "cell_type": "code",
   "execution_count": 63,
   "metadata": {
    "tags": []
   },
   "outputs": [
    {
     "output_type": "stream",
     "name": "stdout",
     "text": "[1, 4, 6, 11, 12, 12, 12, 14, 15, 15, 15, 15, 16, 17, 18, 24, 24, 24, 34, 45, 45, 48, 51, 54, 57, 79]\n"
    }
   ],
   "source": [
    "age.sort()\n",
    "print(age)"
   ]
  },
  {
   "cell_type": "markdown",
   "metadata": {},
   "source": [
    "Notice that the _ reverse_, _insert_ and _sort_ methods return a nothing (_None_) not a *list*. They make the change in the list."
   ]
  },
  {
   "cell_type": "code",
   "execution_count": 67,
   "metadata": {},
   "outputs": [
    {
     "output_type": "execute_result",
     "data": {
      "text/plain": "(57, 6)"
     },
     "metadata": {},
     "execution_count": 67
    }
   ],
   "source": [
    "age.pop(),age.pop(1)"
   ]
  },
  {
   "cell_type": "code",
   "execution_count": 70,
   "metadata": {},
   "outputs": [
    {
     "output_type": "execute_result",
     "data": {
      "text/plain": "[]"
     },
     "metadata": {},
     "execution_count": 70
    }
   ],
   "source": [
    "age.clear()\n",
    "age"
   ]
  },
  {
   "cell_type": "markdown",
   "metadata": {},
   "source": [
    "_pop_ and _append_ methods make list easy to use as _stack_, as soon as in a _stack_ object, the last item added is the first removed.\""
   ]
  },
  {
   "cell_type": "code",
   "execution_count": 79,
   "metadata": {},
   "outputs": [
    {
     "output_type": "execute_result",
     "data": {
      "text/plain": "('gamma', 'psi')"
     },
     "metadata": {},
     "execution_count": 79
    }
   ],
   "source": [
    "from collections import deque\n",
    "queue=deque(['alpha','epsilon','lambda','nu','mu','eta','alpha'])\n",
    "queue.append('psi'), queue.appendleft('gamma')\n",
    "queue.popleft(),queue.pop()"
   ]
  },
  {
   "cell_type": "markdown",
   "metadata": {},
   "source": [
    "## List comprehensions"
   ]
  },
  {
   "cell_type": "markdown",
   "metadata": {},
   "source": [
    "List comprehension provide a concise way to create lists. Common applications are to make new lists where each element is the result of some operations  applied to each member of another sequence or iterable, or to create a subsequence of those elements that satisfy a certain condition.\n"
   ]
  },
  {
   "cell_type": "code",
   "execution_count": 44,
   "metadata": {},
   "outputs": [
    {
     "output_type": "execute_result",
     "data": {
      "text/plain": "0.0001697540283203125"
     },
     "metadata": {},
     "execution_count": 44
    }
   ],
   "source": [
    "import time\n",
    "symbols='~$1%£%§?#{[|`^@æë€´ö÷¡×¿'\n",
    "code_asci=list()\n",
    "begin_time=time.time()\n",
    "for elm in symbols:\n",
    "   code_asci.append(ord(elm))\n",
    "end_time=time.time()\n",
    "execution_time=end_time-begin_time\n",
    "execution_time\n",
    "\n"
   ]
  },
  {
   "cell_type": "code",
   "execution_count": 45,
   "metadata": {},
   "outputs": [
    {
     "output_type": "execute_result",
     "data": {
      "text/plain": "0.00019550323486328125"
     },
     "metadata": {},
     "execution_count": 45
    }
   ],
   "source": [
    "begin_time=time.time()\n",
    "code_asci_listcomp=[ord(elm) for elm in symbols]\n",
    "end_time=time.time()\n",
    "execution_time=end_time-begin_time\n",
    "execution_time\n"
   ]
  },
  {
   "cell_type": "code",
   "execution_count": 48,
   "metadata": {},
   "outputs": [
    {
     "output_type": "execute_result",
     "data": {
      "text/plain": "[(0, 1), (0, 2), (1, 0), (1, 2), (2, 0), (2, 1), (3, 0), (3, 1), (3, 2)]"
     },
     "metadata": {},
     "execution_count": 48
    }
   ],
   "source": [
    "coordinate=[(x,y) for x in range(4) for y in range(3) if x!=y]\n",
    "coordinate"
   ]
  },
  {
   "cell_type": "code",
   "execution_count": 50,
   "metadata": {},
   "outputs": [
    {
     "output_type": "execute_result",
     "data": {
      "text/plain": "[(0, 1), (0, 2), (1, 0), (1, 2), (2, 0), (2, 1), (3, 0), (3, 1), (3, 2)]"
     },
     "metadata": {},
     "execution_count": 50
    }
   ],
   "source": [
    "coordinate_loop=[]\n",
    "for x in range(4):\n",
    "    for y in range(3):\n",
    "        if x!=y:\n",
    "            coordinate_loop.append((x,y))\n",
    "coordinate_loop"
   ]
  },
  {
   "cell_type": "code",
   "execution_count": 60,
   "metadata": {},
   "outputs": [
    {
     "output_type": "execute_result",
     "data": {
      "text/plain": "[10, 9, 8, 7, 6, 5, 4, 3, 2, 1]"
     },
     "metadata": {},
     "execution_count": 60
    }
   ],
   "source": [
    "non_postive=list(range(-10,-0,1))\n",
    "non_postive\n",
    "positive=[abs(x) for x in non_postive]\n",
    "positive"
   ]
  },
  {
   "cell_type": "code",
   "execution_count": 61,
   "metadata": {},
   "outputs": [
    {
     "output_type": "execute_result",
     "data": {
      "text/plain": "[3.0,\n 3.1,\n 3.14,\n 3.142,\n 3.1416,\n 3.14159,\n 3.141593,\n 3.1415927,\n 3.14159265,\n 3.141592654,\n 3.1415926536]"
     },
     "metadata": {},
     "execution_count": 61
    }
   ],
   "source": [
    "from math import pi\n",
    "pi_10=[round(pi,d) for d in range(11)]\n",
    "pi_10"
   ]
  },
  {
   "cell_type": "code",
   "execution_count": 66,
   "metadata": {},
   "outputs": [
    {
     "output_type": "execute_result",
     "data": {
      "text/plain": "[[1, 5, 9], [2, 6, 10], [3, 7, 11], [4, 8, 12]]"
     },
     "metadata": {},
     "execution_count": 66
    }
   ],
   "source": [
    "matrix=[[1,2,3,4],[5,6,7,8],[9,10,11,12]]\n",
    "tranposed1=[[row[i] for row in matrix] for i in range(4)]\n",
    "tranposed1\n"
   ]
  },
  {
   "cell_type": "code",
   "execution_count": 67,
   "metadata": {},
   "outputs": [
    {
     "output_type": "execute_result",
     "data": {
      "text/plain": "[[1, 5, 9], [2, 6, 10], [3, 7, 11], [4, 8, 12]]"
     },
     "metadata": {},
     "execution_count": 67
    }
   ],
   "source": [
    "tranposed2=list()\n",
    "for i in range(4):\n",
    "    tranposed2.append([row[i] for row in matrix])\n",
    "tranposed2"
   ]
  },
  {
   "cell_type": "code",
   "execution_count": 72,
   "metadata": {},
   "outputs": [
    {
     "output_type": "execute_result",
     "data": {
      "text/plain": "[[1, 5, 9], [2, 6, 10], [3, 7, 11], [4, 8, 12]]"
     },
     "metadata": {},
     "execution_count": 72
    }
   ],
   "source": [
    "tranposed3=[]\n",
    "for i in range(4):\n",
    "    transposed=[]\n",
    "    for row in matrix:\n",
    "        transposed.append(row[i])\n",
    "    tranposed3.append(transposed)\n",
    "tranposed3"
   ]
  },
  {
   "cell_type": "code",
   "execution_count": 30,
   "metadata": {},
   "outputs": [
    {
     "output_type": "execute_result",
     "data": {
      "text/plain": "([('Orange', 345),\n  ('apple', 267),\n  ('melon', 99),\n  ('plum', 221),\n  ('strawberry', 101)],\n [('Orange', 345),\n  ('apple', 267),\n  ('melon', 99),\n  ('plum', 221),\n  ('strawberry', 101)])"
     },
     "metadata": {},
     "execution_count": 30
    }
   ],
   "source": [
    "inventory=[(\"apple\",267),('Orange',345),('plum',221),('strawberry',101),('melon',99)]\n",
    "sorted_inventory=sorted(inventory)\n",
    "inventory.sort()\n",
    "inventory,sorted_inventory"
   ]
  },
  {
   "cell_type": "markdown",
   "metadata": {},
   "source": []
  },
  {
   "cell_type": "markdown",
   "metadata": {},
   "source": [
    "# TUPLES"
   ]
  },
  {
   "cell_type": "code",
   "execution_count": null,
   "metadata": {},
   "outputs": [],
   "source": [
    "There is also another standard sequence data type: the _tuple_.\n",
    "A tuple consists of a number of values separated by commas, for instance."
   ]
  },
  {
   "cell_type": "code",
   "execution_count": 2,
   "metadata": {},
   "outputs": [
    {
     "output_type": "execute_result",
     "data": {
      "text/plain": "(4, ('python', 'C', 'JavaScript', 8080))"
     },
     "metadata": {},
     "execution_count": 2
    }
   ],
   "source": [
    "tuple='python','C','JavaScript',8080\n",
    "len(tuple),tuple\n"
   ]
  },
  {
   "cell_type": "markdown",
   "metadata": {},
   "source": [
    "As you see, on output tuples are always enclosed in parentheses, so the nested tuples are interpreted correctly.\n",
    "The input can be declared without parentheses as in the first example.\n",
    "A tuple is immutable, but it can contains mutable object as a _list_.\n"
   ]
  },
  {
   "cell_type": "code",
   "execution_count": 7,
   "metadata": {},
   "outputs": [
    {
     "output_type": "execute_result",
     "data": {
      "text/plain": "[0, 1, 2, 3]"
     },
     "metadata": {},
     "execution_count": 7
    }
   ],
   "source": [
    "t=(list(range(4)),'hello')\n",
    "t[0]"
   ]
  },
  {
   "cell_type": "markdown",
   "metadata": {},
   "source": [
    "And empty tuple is constructed by an empty pair of parentheses. To construct a tuple containing a single item we should end the tuple declaration by a commas.\n"
   ]
  },
  {
   "cell_type": "code",
   "execution_count": 10,
   "metadata": {},
   "outputs": [
    {
     "output_type": "execute_result",
     "data": {
      "text/plain": "(0, 5, 1)"
     },
     "metadata": {},
     "execution_count": 10
    }
   ],
   "source": [
    "empty=()\n",
    "single1=('hello')\n",
    "single2='hello',\n",
    "len(empty),len(single1),len(single2)"
   ]
  },
  {
   "cell_type": "markdown",
   "metadata": {},
   "source": [
    "As you see the second instruction is not a _tuple_ but a _string_."
   ]
  },
  {
   "cell_type": "markdown",
   "metadata": {},
   "source": [
    "### Tuple as record"
   ]
  },
  {
   "cell_type": "code",
   "execution_count": 6,
   "metadata": {
    "tags": []
   },
   "outputs": [
    {
     "output_type": "stream",
     "name": "stdout",
     "text": "BRA/45866\nBRA/45866\nESP/58766\nESP/58766\nUSA/31195\nUSA/31195\n"
    }
   ],
   "source": [
    "lax_coordinate=(33.9425,-118.408056)\n",
    "city,year,pop,chg,area=('Tokyo','2003',32450,0.66,8014)\n",
    "travel_ids=[('USA',31195),('BRA',45866),('ESP',58766)]\n",
    "for passeport in sorted(travel_ids):\n",
    "    print('%s/%d' %passeport)\n",
    "    print(f'{passeport[0]}/{passeport[1]}')\n"
   ]
  },
  {
   "cell_type": "markdown",
   "metadata": {},
   "source": [
    "The for loop knows how to retrieve the items of a tuple and treats each items as separate field. This called _unpacking_.\n"
   ]
  },
  {
   "cell_type": "code",
   "execution_count": 9,
   "metadata": {
    "tags": []
   },
   "outputs": [
    {
     "output_type": "stream",
     "name": "stdout",
     "text": "USA\nBRA\nESP\n********************************************************************************\n31195\n45866\n58766\n"
    }
   ],
   "source": [
    "for country,_ in travel_ids:\n",
    "    print(country)\n",
    "print(20*'****')\n",
    "for _,pop in travel_ids:\n",
    "    print(pop)  "
   ]
  },
  {
   "cell_type": "markdown",
   "metadata": {},
   "source": [
    "We can also use tuple unpacking to enable functions to return multiple values."
   ]
  },
  {
   "cell_type": "code",
   "execution_count": 11,
   "metadata": {},
   "outputs": [
    {
     "output_type": "execute_result",
     "data": {
      "text/plain": "'math.exe'"
     },
     "metadata": {},
     "execution_count": 11
    }
   ],
   "source": [
    "import os \n",
    "_,filname=os.path.split('/home/cheikh/.shh/math.exe')\n",
    "filname"
   ]
  },
  {
   "cell_type": "markdown",
   "metadata": {},
   "source": [
    "To grab arbitrary excess arguments we can use the _*arg_.\n"
   ]
  },
  {
   "cell_type": "code",
   "execution_count": 13,
   "metadata": {},
   "outputs": [
    {
     "output_type": "execute_result",
     "data": {
      "text/plain": "(0, 1, [2, 3, 4, 5])"
     },
     "metadata": {},
     "execution_count": 13
    }
   ],
   "source": [
    "a,b,*c=range(6)\n",
    "a,b,c"
   ]
  },
  {
   "cell_type": "code",
   "execution_count": 14,
   "metadata": {},
   "outputs": [
    {
     "output_type": "execute_result",
     "data": {
      "text/plain": "([0, 1, 2, 3], 4, 5)"
     },
     "metadata": {},
     "execution_count": 14
    }
   ],
   "source": [
    "*a,b,c=range(6)\n",
    "a,b,c"
   ]
  },
  {
   "cell_type": "markdown",
   "metadata": {},
   "source": [
    "### Nested tuple unpacking\n",
    "\n",
    "The tuple to receive an expression to unpack can have a nested tuples like _(a,b,(c,d))_, and python will do the right thing if the expression matches the nested structure.\n",
    "See the example below."
   ]
  },
  {
   "cell_type": "code",
   "execution_count": 46,
   "metadata": {},
   "outputs": [],
   "source": [
    "metro_areas = [\n",
    " ('Tokyo', 'JP', 36.933, (35.689722, 139.691667)),\n",
    " ('Delhi NCR', 'IN', 21.935, (28.613889, 77.208889)),\n",
    " ('Mexico City', 'MX', 20.142, (19.433333, -99.133333)),\n",
    " ('New York-Newark', 'US', 20.104, (40.808611, -74.020386)),\n",
    " ('Sao Paulo', 'BR', 19.649, (-23.547778, -46.635833))\n",
    "]"
   ]
  },
  {
   "cell_type": "code",
   "execution_count": 52,
   "metadata": {
    "tags": []
   },
   "outputs": [
    {
     "output_type": "stream",
     "name": "stdout",
     "text": "City            |   lat.    |   long.  \nMexico City     |   19.4333 |  -99.1333\nNew York-Newark |   40.8086 |  -74.0204\nSao Paulo       |  -23.5478 |  -46.6358\n"
    }
   ],
   "source": [
    "print('{:15} | {:^9} | {:^9}'.format('City', 'lat.', 'long.'))\n",
    "fmt = '{:15} | {:9.4f} | {:9.4f}'\n",
    "for name, cc, pop, (latitude, longitude) in metro_areas:\n",
    "    if longitude <= 0:\n",
    "        print(fmt.format(name, latitude, longitude))"
   ]
  },
  {
   "cell_type": "markdown",
   "metadata": {},
   "source": [
    "### Named tuples"
   ]
  },
  {
   "cell_type": "markdown",
   "metadata": {},
   "source": [
    "The collections.namedtuple fucntion is a factory that produces subclasses of tuple enhanced with field _name_ and a class _name_."
   ]
  },
  {
   "cell_type": "code",
   "execution_count": 54,
   "metadata": {},
   "outputs": [
    {
     "output_type": "execute_result",
     "data": {
      "text/plain": "City(name='Tokyo', country='JP', population=36933, coordinates=(35.933, 139.691667))"
     },
     "metadata": {},
     "execution_count": 54
    }
   ],
   "source": [
    "from collections import namedtuple\n",
    "City=namedtuple('City','name country population coordinates')\n",
    "tokyo=City('Tokyo','JP',36933,(35.933,139.691667))\n",
    "tokyo\n"
   ]
  },
  {
   "cell_type": "code",
   "execution_count": 56,
   "metadata": {},
   "outputs": [
    {
     "output_type": "execute_result",
     "data": {
      "text/plain": "(36933, 'JP')"
     },
     "metadata": {},
     "execution_count": 56
    }
   ],
   "source": [
    "tokyo.population,tokyo.country"
   ]
  },
  {
   "cell_type": "code",
   "execution_count": 57,
   "metadata": {},
   "outputs": [
    {
     "output_type": "execute_result",
     "data": {
      "text/plain": "(35.933, 139.691667)"
     },
     "metadata": {},
     "execution_count": 57
    }
   ],
   "source": [
    "tokyo.coordinates"
   ]
  },
  {
   "cell_type": "markdown",
   "metadata": {},
   "source": [
    "Two paramaters are necessary to create a named tuple: a class name and a list of the field names, which can be given as an iterable of strings or a single space -delimited string.\n",
    "A named tuple has a few attributes in addition to those inherited from tuple.\n",
    "* _make(iterable)_: class method\n",
    "* _fields_ : class attributes\n",
    "* _asdict()_ instance method\n"
   ]
  },
  {
   "cell_type": "code",
   "execution_count": 58,
   "metadata": {},
   "outputs": [
    {
     "output_type": "execute_result",
     "data": {
      "text/plain": "('name', 'country', 'population', 'coordinates')"
     },
     "metadata": {},
     "execution_count": 58
    }
   ],
   "source": [
    "City._fields"
   ]
  },
  {
   "cell_type": "code",
   "execution_count": 61,
   "metadata": {},
   "outputs": [
    {
     "output_type": "execute_result",
     "data": {
      "text/plain": "{'name': 'Delhi',\n 'country': 'IN',\n 'population': 21.935,\n 'coordinates': LatLong(lat=28.613889, long=77.208889)}"
     },
     "metadata": {},
     "execution_count": 61
    }
   ],
   "source": [
    "LatLong=namedtuple('LatLong','lat long')\n",
    "delhi=('Delhi','IN',21.935,LatLong(28.613889,77.208889))\n",
    "delhi=City._make(delhi)\n",
    "delhi._asdict()"
   ]
  },
  {
   "cell_type": "markdown",
   "metadata": {},
   "source": [
    "Notice that instead of using the class method _make_ which allow you to instatiate a named tuple from an iterable, we can use the unpacked method _City(*delhi)_."
   ]
  },
  {
   "cell_type": "markdown",
   "metadata": {},
   "source": [
    "\n",
    "| method | list| tuple| description |\n",
    "|---|---|---|---|\n",
    "| s.\\__add__($s_2$) |  x |   x | s+$s_2$-concatenation |\n",
    "| s.\\__iadd__($s_2$) |  x |    | s+=$s_2$-in place concatenation |\n",
    "| s.append(e) |  x |    | Append elment _e_ after last |\n",
    "| s.clear() |  x |    | Delete all items |\n",
    "| s.\\__contains__(e) |  x  |  x  |  e in s |\n",
    "| s.copy() |  x |    | Shallow copy of the list |\n",
    "| s.count(e) |  x |   x | count occurences of an element |\n",
    "| s.\\__delitem__(p) |  x |    | Remove item at position p |\n",
    "| s.extend(it) |  x |    | Append items from iterable it |\n",
    "| s.\\__getitem__(p) |  x |   x | s\\[p] get item at position position |\n",
    "| s.index(e) |  x |   x | find the position of first occurence of e |\n",
    "| s.insert(p,e) |  x |    | Insert the element e before the item at position p |\n",
    "| s.\\__iter__() |  x |   x | Get iterator |\n",
    "| s.\\__len__() |  x |   x | len(s) number of items |\n",
    "| s.\\__mul__(n) |  x |   x | s*n- repeated concatenation |\n",
    "| s.\\__imul__(n) |  x |    | s*=n- in place repeated concatenation |\n",
    "| s.\\__rmul__(n) |  x |   x | s*n- reversed repeated concatenation |\n",
    "| s.pop(\\[p]) |  x |    | Remove the last item or the item at optional position p |\n",
    "| s.remove(e) |  x |    | Remove the first occurences of e by value |\n",
    "| s.reverse() |  x |    | Reverse the order of the items in place |\n",
    "| s.\\__reversed__() |  x |    | Get iterator to scan items from last to first |\n",
    "| s.\\__setitem(p,e)__ |  x |    | s\\[p]=e put e at position p  overwritting existing item |\n",
    "| s.sort(\\[key],\\[reverse]) |  x |    | Sort items in place with optional keyword arguments _key_ and _reverse_  |"
   ]
  },
  {
   "cell_type": "code",
   "execution_count": 1,
   "metadata": {},
   "outputs": [
    {
     "output_type": "execute_result",
     "data": {
      "text/plain": "True"
     },
     "metadata": {},
     "execution_count": 1
    }
   ],
   "source": [
    "liste=list(range(10))\n",
    "liste.__contains__(2)\n",
    "\n"
   ]
  },
  {
   "cell_type": "code",
   "execution_count": 4,
   "metadata": {
    "tags": []
   },
   "outputs": [
    {
     "output_type": "stream",
     "name": "stdout",
     "text": "9 8 7 6 5 4 3 2 1 0\n"
    }
   ],
   "source": [
    "it=liste.__reversed__()\n",
    "print(*it)"
   ]
  },
  {
   "cell_type": "code",
   "execution_count": 8,
   "metadata": {},
   "outputs": [
    {
     "output_type": "execute_result",
     "data": {
      "text/plain": "[2, 4, 6, 8]"
     },
     "metadata": {},
     "execution_count": 8
    }
   ],
   "source": [
    "sub=[x for x in liste if x%2==0]\n",
    "sub.__delitem__(0)\n",
    "sub"
   ]
  },
  {
   "cell_type": "code",
   "execution_count": 13,
   "metadata": {},
   "outputs": [
    {
     "output_type": "execute_result",
     "data": {
      "text/plain": "([2, 4, 6, 8, 2, 4, 6, 8, 2, 4, 6, 8, 2, 4, 6, 8],\n [2, 4, 6, 8, 2, 4, 6, 8, 2, 4, 6, 8, 2, 4, 6, 8])"
     },
     "metadata": {},
     "execution_count": 13
    }
   ],
   "source": [
    "sub_twice=sub.__mul__(2)\n",
    "sub.__imul__(2)\n",
    "sub_twice,sub"
   ]
  },
  {
   "cell_type": "markdown",
   "metadata": {},
   "source": [
    "### Slicing"
   ]
  },
  {
   "cell_type": "markdown",
   "metadata": {},
   "source": [
    "A common feature of list, tuple , str and all sequence types in python support of slicing operations which is very powerful.\n"
   ]
  },
  {
   "cell_type": "markdown",
   "metadata": {},
   "source": [
    "Python uses a zero-based indexing. Slicing excludes de last item as in range."
   ]
  },
  {
   "cell_type": "markdown",
   "metadata": {},
   "source": [
    "* s\\[:a] split at position a\n",
    "* s\\[a:]"
   ]
  },
  {
   "cell_type": "code",
   "execution_count": 20,
   "metadata": {},
   "outputs": [
    {
     "output_type": "execute_result",
     "data": {
      "text/plain": "([2, 3, 4, 5, 6, 7, 8, 9], [0, 1])"
     },
     "metadata": {},
     "execution_count": 20
    }
   ],
   "source": [
    "liste[2:],liste[:2]"
   ]
  },
  {
   "cell_type": "code",
   "execution_count": 32,
   "metadata": {},
   "outputs": [
    {
     "output_type": "execute_result",
     "data": {
      "text/plain": "('bye', 'elcycib')"
     },
     "metadata": {},
     "execution_count": 32
    }
   ],
   "source": [
    "s='bicycle'\n",
    "s[::3],s[::-1]"
   ]
  },
  {
   "cell_type": "code",
   "execution_count": 28,
   "metadata": {},
   "outputs": [
    {
     "output_type": "execute_result",
     "data": {
      "text/plain": "[0, 3, 6, 9]"
     },
     "metadata": {},
     "execution_count": 28
    }
   ],
   "source": [
    "liste[::3]"
   ]
  },
  {
   "cell_type": "markdown",
   "metadata": {},
   "source": [
    "### Bulding lists of lists\n",
    "Sometimes we need to initialize a list with a certain number of nested lists. Por example to distribute students in a list of teams.\n"
   ]
  },
  {
   "cell_type": "code",
   "execution_count": 45,
   "metadata": {},
   "outputs": [
    {
     "output_type": "execute_result",
     "data": {
      "text/plain": "[['-', '-', '-'], ['-', '-', 'X'], ['-', '-', '-']]"
     },
     "metadata": {},
     "execution_count": 45
    }
   ],
   "source": [
    "board=[['-']*3 for i in range(3)]\n",
    "board[1].__setitem__(2,'X')\n",
    "board"
   ]
  },
  {
   "cell_type": "code",
   "execution_count": 43,
   "metadata": {},
   "outputs": [
    {
     "output_type": "execute_result",
     "data": {
      "text/plain": "[['-', '-', '-'], ['-', '-', '-'], ['-', '-', '-']]"
     },
     "metadata": {},
     "execution_count": 43
    }
   ],
   "source": [
    "weird_board=[['-']*3]*3\n",
    "weird_board"
   ]
  },
  {
   "cell_type": "code",
   "execution_count": 46,
   "metadata": {},
   "outputs": [
    {
     "output_type": "execute_result",
     "data": {
      "text/plain": "[['-', '-', 'X'], ['-', '-', 'X'], ['-', '-', 'X']]"
     },
     "metadata": {},
     "execution_count": 46
    }
   ],
   "source": [
    "weird_board.__getitem__(1).__setitem__(2,'X')\n",
    "weird_board"
   ]
  },
  {
   "cell_type": "markdown",
   "metadata": {},
   "source": [
    "We notice in the _weird_board_ list all rows have been concerned by the assignment.\n",
    "In fact, all rows are aliases refering to same object. So if we change one others will also be changed."
   ]
  },
  {
   "cell_type": "markdown",
   "metadata": {},
   "source": [
    "This understand more this this case see the example below."
   ]
  },
  {
   "cell_type": "code",
   "execution_count": 48,
   "metadata": {},
   "outputs": [
    {
     "output_type": "execute_result",
     "data": {
      "text/plain": "([['-', '-', '-'], ['-', '-', '-'], ['-', '-', '-']],\n [['-', '-', '-'], ['-', '-', '-'], ['-', '-', '-']])"
     },
     "metadata": {},
     "execution_count": 48
    }
   ],
   "source": [
    "row=['-']*3\n",
    "weird_board2=list()\n",
    "board2=list()\n",
    "for i in range(3):\n",
    "    weird_board2.append(row)\n",
    "    row2=['-']*3\n",
    "    board2.append(row2)\n",
    "board2,weird_board2\n"
   ]
  },
  {
   "cell_type": "markdown",
   "metadata": {},
   "source": [
    "The same row is appended three times to _weird_board2_. All rows refer to same adress. In _board_ list, each iteration builds a new row and append it to _board2_\n"
   ]
  },
  {
   "cell_type": "code",
   "execution_count": null,
   "metadata": {},
   "outputs": [],
   "source": []
  }
 ]
}