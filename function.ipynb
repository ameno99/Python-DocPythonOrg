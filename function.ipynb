{
 "metadata": {
  "language_info": {
   "codemirror_mode": {
    "name": "ipython",
    "version": 3
   },
   "file_extension": ".py",
   "mimetype": "text/x-python",
   "name": "python",
   "nbconvert_exporter": "python",
   "pygments_lexer": "ipython3",
   "version": "3.6.9-final"
  },
  "orig_nbformat": 2,
  "kernelspec": {
   "name": "python_defaultSpec_1597697575014",
   "display_name": "Python 3.6.9 64-bit"
  }
 },
 "nbformat": 4,
 "nbformat_minor": 2,
 "cells": [
  {
   "cell_type": "markdown",
   "metadata": {},
   "source": [
    "#  Functions "
   ]
  },
  {
   "cell_type": "code",
   "execution_count": null,
   "metadata": {},
   "outputs": [],
   "source": [
    "def fibanocci(n):\n",
    "    a,b=0,1\n",
    "    while a<n:\n",
    "        a,b=b,a+b\n",
    "        print(a,end=\" \")\n"
   ]
  },
  {
   "cell_type": "code",
   "execution_count": 4,
   "metadata": {
    "tags": []
   },
   "outputs": [
    {
     "output_type": "stream",
     "name": "stdout",
     "text": "1 1 2 3 5 8 13"
    }
   ],
   "source": [
    "fibanocci(10)"
   ]
  },
  {
   "cell_type": "code",
   "execution_count": 10,
   "metadata": {},
   "outputs": [],
   "source": [
    "def fiboncciListe(n):\n",
    "    out=[1,1]\n",
    "    for i in range(n-2):\n",
    "        out.append(out[i]+out[i+1])\n",
    "    return out"
   ]
  },
  {
   "cell_type": "code",
   "execution_count": 11,
   "metadata": {
    "tags": []
   },
   "outputs": [
    {
     "output_type": "stream",
     "name": "stdout",
     "text": "[1, 1, 2, 3, 5, 8, 13, 21, 34, 55]\n"
    }
   ],
   "source": [
    "print(fiboncciListe(10))"
   ]
  },
  {
   "cell_type": "code",
   "execution_count": 22,
   "metadata": {},
   "outputs": [],
   "source": [
    "def fibonacciRecursive(n):\n",
    "    if n==0 or n==1:\n",
    "        return 1\n",
    "    else:\n",
    "        return fibonacciRecursive(n-1)+fibonacciRecursive(n-2)"
   ]
  },
  {
   "cell_type": "code",
   "execution_count": 26,
   "metadata": {
    "tags": []
   },
   "outputs": [
    {
     "output_type": "stream",
     "name": "stdout",
     "text": "1 1 2 3 5 8 13 21 34 55"
    }
   ],
   "source": [
    "for n in range(10):\n",
    "    print(fibonacciRecursive(n),end=\" \")"
   ]
  },
  {
   "cell_type": "markdown",
   "metadata": {},
   "source": [
    "## Default arguments values"
   ]
  },
  {
   "cell_type": "markdown",
   "metadata": {},
   "source": [
    "The most useful form is to specify a default value for one or more aguments. This creates function that can be called with fewer arguments than it is defined to allow.\n"
   ]
  },
  {
   "cell_type": "code",
   "execution_count": 3,
   "metadata": {},
   "outputs": [],
   "source": [
    "def adress(name,country='France',city='Le Croisic'):\n",
    "    print(\"Monsieur ou Madame {} vit en \".format(name),country, \"dans la ville de \", city )"
   ]
  },
  {
   "cell_type": "code",
   "execution_count": 4,
   "metadata": {
    "tags": []
   },
   "outputs": [
    {
     "output_type": "stream",
     "name": "stdout",
     "text": "Monsieur ou Madame Cheikh BEYE vit en  France dans la ville de  Le Croisic\n"
    }
   ],
   "source": [
    "adress(\"Cheikh BEYE\")"
   ]
  },
  {
   "cell_type": "code",
   "execution_count": 6,
   "metadata": {
    "tags": []
   },
   "outputs": [
    {
     "output_type": "stream",
     "name": "stdout",
     "text": "Monsieur ou Madame Ndoye Alioune vit en  France dans la ville de  Le Mans\n"
    }
   ],
   "source": [
    "adress(\"Ndoye Alioune\",city='Le Mans')"
   ]
  },
  {
   "cell_type": "markdown",
   "metadata": {},
   "source": [
    "The dafault value is evaluted only once. But when the default is a mutable object kind of _list_ or _set_ or _dictionnary_ the defalut can be evaluated more than once."
   ]
  },
  {
   "cell_type": "code",
   "execution_count": 9,
   "metadata": {},
   "outputs": [],
   "source": [
    "def add(elm,L=list()):\n",
    "    L.append(elm)\n",
    "    return L"
   ]
  },
  {
   "cell_type": "code",
   "execution_count": 11,
   "metadata": {
    "tags": []
   },
   "outputs": [
    {
     "output_type": "stream",
     "name": "stdout",
     "text": "[1, 0]\n[1, 0, 1]\n[1, 0, 1, 2]\n[1, 0, 1, 2, 3]\n"
    }
   ],
   "source": [
    "for i in range(4):\n",
    "    print(add(i))"
   ]
  },
  {
   "cell_type": "markdown",
   "metadata": {},
   "source": [
    "To handlle this we can proceed as follows"
   ]
  },
  {
   "cell_type": "code",
   "execution_count": 13,
   "metadata": {},
   "outputs": [],
   "source": [
    "def add_noIteract(elm,L=None):\n",
    "    if L is None:\n",
    "        L=list()\n",
    "        L.append(elm)\n",
    "    return L\n",
    "        "
   ]
  },
  {
   "cell_type": "code",
   "execution_count": 14,
   "metadata": {
    "tags": []
   },
   "outputs": [
    {
     "output_type": "stream",
     "name": "stdout",
     "text": "[0]\n[1]\n[2]\n[3]\n"
    }
   ],
   "source": [
    "for i in range(4):\n",
    "    print(add_noIteract(i))"
   ]
  },
  {
   "cell_type": "markdown",
   "metadata": {},
   "source": [
    "## Keyword Arguments\n",
    "Functions can also be called using Keyword arguments of the form _kwarg=value_. For instance, the following function:"
   ]
  },
  {
   "cell_type": "code",
   "execution_count": 2,
   "metadata": {},
   "outputs": [],
   "source": [
    "def parrot(voltage,state='a stiff', action='voom',type='Norwegian'):\n",
    "    print(\"__This a parrot wouldn't\",action,end=' ')\n",
    "    print(\"If you put\",voltage,\"volts through it.\")\n",
    "    print(\"__lovely plumage, the\", type)\n",
    "    print(\"__It's\", state,\"!\")"
   ]
  },
  {
   "cell_type": "markdown",
   "metadata": {},
   "source": [
    "### 1 positionnal argument"
   ]
  },
  {
   "cell_type": "code",
   "execution_count": 6,
   "metadata": {
    "tags": []
   },
   "outputs": [
    {
     "output_type": "stream",
     "name": "stdout",
     "text": "__This a parrot wouldn't voom If you put 1000 volts through it.\n__lovely plumage, the Norwegian\n__It's a stiff !\n"
    }
   ],
   "source": [
    "parrot(1000)"
   ]
  },
  {
   "cell_type": "markdown",
   "metadata": {},
   "source": [
    "### 1 keyword argument"
   ]
  },
  {
   "cell_type": "code",
   "execution_count": 7,
   "metadata": {
    "tags": []
   },
   "outputs": [
    {
     "output_type": "stream",
     "name": "stdout",
     "text": "__This a parrot wouldn't voom If you put 100 volts through it.\n__lovely plumage, the Norwegian\n__It's a stiff !\n"
    }
   ],
   "source": [
    "parrot(voltage=100)"
   ]
  },
  {
   "cell_type": "markdown",
   "metadata": {},
   "source": [
    "### 2 keyword arguments"
   ]
  },
  {
   "cell_type": "code",
   "execution_count": 8,
   "metadata": {
    "tags": []
   },
   "outputs": [
    {
     "output_type": "stream",
     "name": "stdout",
     "text": "__This a parrot wouldn't VOOOOM If you put 10000 volts through it.\n__lovely plumage, the Norwegian\n__It's a stiff !\n"
    }
   ],
   "source": [
    "parrot(voltage=10000,action='VOOOOM')"
   ]
  },
  {
   "cell_type": "markdown",
   "metadata": {},
   "source": [
    "### 2 keyword arguments"
   ]
  },
  {
   "cell_type": "code",
   "execution_count": 9,
   "metadata": {
    "tags": []
   },
   "outputs": [
    {
     "output_type": "stream",
     "name": "stdout",
     "text": "__This a parrot wouldn't VOOOOOM If you put 100000 volts through it.\n__lovely plumage, the Norwegian\n__It's a stiff !\n"
    }
   ],
   "source": [
    "parrot(action='VOOOOOM',voltage=100000)"
   ]
  },
  {
   "cell_type": "markdown",
   "metadata": {},
   "source": [
    "### 3 positionnal arguments"
   ]
  },
  {
   "cell_type": "code",
   "execution_count": 10,
   "metadata": {
    "tags": []
   },
   "outputs": [
    {
     "output_type": "stream",
     "name": "stdout",
     "text": "__This a parrot wouldn't jump If you put a million volts through it.\n__lovely plumage, the Norwegian\n__It's berefit of life !\n"
    }
   ],
   "source": [
    "parrot('a million', 'berefit of life','jump')"
   ]
  },
  {
   "cell_type": "markdown",
   "metadata": {},
   "source": [
    "### 1 positionnal argument and 1 keyword argument"
   ]
  },
  {
   "cell_type": "code",
   "execution_count": 11,
   "metadata": {
    "tags": []
   },
   "outputs": [
    {
     "output_type": "stream",
     "name": "stdout",
     "text": "__This a parrot wouldn't voom If you put a thousand volts through it.\n__lovely plumage, the Norwegian\n__It's pushing up the daisies !\n"
    }
   ],
   "source": [
    "parrot('a thousand',state='pushing up the daisies')"
   ]
  },
  {
   "cell_type": "markdown",
   "metadata": {},
   "source": [
    "In functionnal call, keyword arguments must follow positionnal arguments. All the keyword arguments passed must match one of the arguments accepted by the fucntion and the order is not important. This also includes non-optionnal arguments. No argument may receive a value more than once."
   ]
  },
  {
   "cell_type": "markdown",
   "metadata": {},
   "source": [
    "When a final formal parameter of the form _name**_ is present, it receives a dictionnary containing all keyword arguments except for those corresponding to a formal parameter. This may be combined with a formal parameter of the form _name*_ which receives a tuple containing the postionnal arguments beyond the fomal parameter list."
   ]
  },
  {
   "cell_type": "code",
   "execution_count": 6,
   "metadata": {},
   "outputs": [],
   "source": [
    "def cheeseshop(kind, *arguments, **keyword):\n",
    "    print(\"--Do you have any\",kind, \" ?\")\n",
    "    print(\"--I'm sorry, we are all out of\",kind)\n",
    "    for arg in arguments:\n",
    "        print(arg)\n",
    "    print(\"--\"*40)\n",
    "    for kw in keyword:\n",
    "        print(kw, \":\",keyword[kw])\n"
   ]
  },
  {
   "cell_type": "code",
   "execution_count": 7,
   "metadata": {
    "tags": []
   },
   "outputs": [
    {
     "output_type": "stream",
     "name": "stdout",
     "text": "--Do you have any Limburger  ?\n--I'm sorry, we are all out of Limburger\nIt's very runny, sir.\nIt's really very VERY runny, sir.\n--------------------------------------------------------------------------------\nshopkeeper : Micheal More\ncleint : Arame\nsketch : Cheese shop sketch\n"
    }
   ],
   "source": [
    "cheeseshop(\"Limburger\",\"It's very runny, sir.\",\n",
    "            \"It's really very VERY runny, sir.\",\n",
    "            shopkeeper=\"Micheal More\",\n",
    "            cleint=\"Arame\",\n",
    "            sketch=\"Cheese shop sketch\"\n",
    "            )"
   ]
  },
  {
   "cell_type": "markdown",
   "metadata": {},
   "source": [
    "By default, arguments may be passed to a python function either by position or explicitly by keyword. For reability and performance, it makes sense to restrict the way arguments can be passed so that a developer need only look at the function definition to determine if items are passed by position or keyword.\n",
    "We use  _/_ and _*_ to indicate the kind of parameter by how the arguments may be passed to the function: position-only, positional-or-keyword, and keyword-only. keyword parameter are also refered to as named parameter."
   ]
  },
  {
   "cell_type": "markdown",
   "metadata": {},
   "source": [
    "If positional-only, the parameters' oreder matters. Positional-only the parameters are placed before a / (forward-slash). The / is used to logically separate the positional-only from the rest of the parameters. If there is no / in the fucntion definition,there are no positional-only parameters."
   ]
  },
  {
   "cell_type": "code",
   "execution_count": 7,
   "metadata": {},
   "outputs": [
    {
     "output_type": "error",
     "ename": "SyntaxError",
     "evalue": "invalid syntax (<ipython-input-7-c839fb0f7b17>, line 1)",
     "traceback": [
      "\u001b[0;36m  File \u001b[0;32m\"<ipython-input-7-c839fb0f7b17>\"\u001b[0;36m, line \u001b[0;32m1\u001b[0m\n\u001b[0;31m    def go(arg, /):\u001b[0m\n\u001b[0m                ^\u001b[0m\n\u001b[0;31mSyntaxError\u001b[0m\u001b[0;31m:\u001b[0m invalid syntax\n"
     ]
    }
   ],
   "source": [
    "def go(arg, /):\n",
    "    print(arg)\n"
   ]
  },
  {
   "cell_type": "code",
   "execution_count": null,
   "metadata": {},
   "outputs": [],
   "source": []
  }
 ]
}