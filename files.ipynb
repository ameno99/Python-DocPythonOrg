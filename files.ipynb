{
 "metadata": {
  "language_info": {
   "codemirror_mode": {
    "name": "ipython",
    "version": 3
   },
   "file_extension": ".py",
   "mimetype": "text/x-python",
   "name": "python",
   "nbconvert_exporter": "python",
   "pygments_lexer": "ipython3",
   "version": "3.8.0-final"
  },
  "orig_nbformat": 2,
  "kernelspec": {
   "name": "python_defaultSpec_1600175315626",
   "display_name": "Python 3.8.0 64-bit"
  }
 },
 "nbformat": 4,
 "nbformat_minor": 2,
 "cells": [
  {
   "cell_type": "markdown",
   "metadata": {},
   "source": [
    "# FILES "
   ]
  },
  {
   "cell_type": "markdown",
   "metadata": {},
   "source": [
    "_open()_ return a file object and is most commonly used with two arguments : _filename- and _mode_.\n",
    "The first argument is a string containing the filename. The second is another string containing a few characters describing the way in which the file will be used. It can be _'r'_  for reading-only,_'w'_ for writting-only; if the filename already exists the containing  will be overwritten, _'a'_ opens the file for appending; any data written to the file is automatically added to the end. 'r+' opens the file for both reading and writing. If the _mode_ arguments is omitted _'r'_ will be asummed.\n"
   ]
  },
  {
   "cell_type": "code",
   "execution_count": 5,
   "metadata": {
    "tags": []
   },
   "outputs": [
    {
     "output_type": "stream",
     "name": "stdout",
     "text": "False\n"
    }
   ],
   "source": [
    "file=open('file.txt')\n",
    "file.read()\n",
    "print(file.closed)\n",
    "file.close()"
   ]
  },
  {
   "cell_type": "code",
   "execution_count": 24,
   "metadata": {
    "tags": []
   },
   "outputs": [
    {
     "output_type": "stream",
     "name": "stdout",
     "text": "['Low abiding citizen\\n', 'The book of Eli\\n', 'Creed\\n', 'Advangers EndGame\\n', 'Terminator\\n', 'The sun shines\\n', 'Terminator\\n', 'The sun shines\\n', 'Terminator\\n', 'The sun shines\\n', 'TerminatorThe sun shines']\n"
    }
   ],
   "source": [
    "file=open('file.txt')\n",
    "print(file.readlines())\n",
    "file.close()"
   ]
  },
  {
   "cell_type": "code",
   "execution_count": 16,
   "metadata": {
    "tags": []
   },
   "outputs": [
    {
     "output_type": "stream",
     "name": "stdout",
     "text": "Low abiding citizen\n\nThe book of Eli\n\nCreed\n\nAdvangers EndGame\n\n"
    }
   ],
   "source": [
    "file=open('file.txt')\n",
    "for x in range(4):\n",
    "    print(file.readline())\n",
    "file.close()"
   ]
  },
  {
   "cell_type": "markdown",
   "metadata": {},
   "source": [
    "It is good practice to use _with_ keyword when dealing with file obejects. The adavantage is that the file is properly closed afyer its suite finishes."
   ]
  },
  {
   "cell_type": "code",
   "execution_count": 25,
   "metadata": {},
   "outputs": [
    {
     "output_type": "execute_result",
     "data": {
      "text/plain": "True"
     },
     "metadata": {},
     "execution_count": 25
    }
   ],
   "source": [
    "with open('file.txt','a') as file:\n",
    "    file.write('Terminator\\n')\n",
    "    file.write('The sun shines\\n')\n",
    "file.closed"
   ]
  },
  {
   "cell_type": "code",
   "execution_count": 30,
   "metadata": {
    "tags": []
   },
   "outputs": [
    {
     "output_type": "stream",
     "name": "stdout",
     "text": "Low abiding citizen\n\nThe book of Eli\n\nCreed\n\nAdvangers EndGame\n\nTerminator\n\nThe sun shines\n\n"
    }
   ],
   "source": [
    "file=open('file.txt')\n",
    "for x in range(6):\n",
    "    print(file.readline())\n",
    "file.close()"
   ]
  },
  {
   "cell_type": "code",
   "execution_count": null,
   "metadata": {},
   "outputs": [],
   "source": []
  }
 ]
}