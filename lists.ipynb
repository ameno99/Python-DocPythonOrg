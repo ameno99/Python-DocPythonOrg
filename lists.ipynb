{
 "metadata": {
  "language_info": {
   "codemirror_mode": {
    "name": "ipython",
    "version": 3
   },
   "file_extension": ".py",
   "mimetype": "text/x-python",
   "name": "python",
   "nbconvert_exporter": "python",
   "pygments_lexer": "ipython3",
   "version": "3.8.0-final"
  },
  "orig_nbformat": 2,
  "kernelspec": {
   "name": "python_defaultSpec_1599206087894",
   "display_name": "Python 3.8.0 64-bit"
  }
 },
 "nbformat": 4,
 "nbformat_minor": 2,
 "cells": [
  {
   "cell_type": "markdown",
   "metadata": {},
   "source": [
    "## LISTES"
   ]
  },
  {
   "cell_type": "markdown",
   "metadata": {},
   "source": [
    "The most fundemental sequence type used in python is _list_. Lists are mutable and mixed-type. "
   ]
  },
  {
   "cell_type": "markdown",
   "metadata": {},
   "source": [
    "The list data type has multiple methods. Here are all of the methods of _list_ objects.\n",
    "* _list.append(x)_ : add item to the end of the _list_\n",
    "\n",
    "* _list.extend(iterable)_ :extnd the _list_ by appendding all the items from the itreable\n",
    "\n",
    "* _list.insert(i,x)_ : insert an item at given position. The first argument is the index of the element before which to insert. So *a.insert(0,x)* insert _x_ at the front of the _list_ , and _a.insert(len(a),x)_ is equivalent to _a.append(x)_\n",
    "\n",
    "* _list.remove_(x) : remove the first item from the _list_ whose values is equal to _x_. It raises a _ValueError if the there is no such item.\n",
    "\n",
    "* _list.pop(\\[i\\]): remove the item at the given position in the _list_ and return it. If no index is given _a.pop()_ remove and return the last element of the _list_ (With _pop_ method: Last in first out)\n",
    "\n",
    "* _list.clear()_ : remove all items from the _list_. This method is equivalent to  _del_ a\\[:]\n",
    "\n",
    "* _list.index(x,\\[,start\\[,end]])_ return zero_based index in the _list_ of the the first value whose value is equal to *x*. Raises a value _ValueError_ if there is no such item.\n",
    "\n",
    "* _list.sort(key=none, reverse=False)_ : sort the item of the _list_ in place\n",
    "\n",
    "* _list.reverse()_: reverse items ot*f the _list_ in place\n",
    "\n",
    "* _list.copy()_ : return a shallow copy of the _list_. equivalent to *a\\[:]*\n",
    "\n",
    "* _list.count(x)_ : return the number of times _x_ appears in the _list_.\n",
    "\n",
    "\n",
    "## Examples \n"
   ]
  },
  {
   "cell_type": "code",
   "execution_count": 55,
   "metadata": {},
   "outputs": [],
   "source": [
    "age=[12,45,24,1,24,4,57,51,15,14,16,24,15,17,48,18,15,12,11,45,12,6,79,54,34,15,1]"
   ]
  },
  {
   "cell_type": "code",
   "execution_count": 56,
   "metadata": {},
   "outputs": [
    {
     "output_type": "execute_result",
     "data": {
      "text/plain": "4"
     },
     "metadata": {},
     "execution_count": 56
    }
   ],
   "source": [
    "age.count(15)"
   ]
  },
  {
   "cell_type": "code",
   "execution_count": 57,
   "metadata": {},
   "outputs": [
    {
     "output_type": "execute_result",
     "data": {
      "text/plain": "(15, 3)"
     },
     "metadata": {},
     "execution_count": 57
    }
   ],
   "source": [
    "age.index(18),age.index(1,3,len(age))"
   ]
  },
  {
   "cell_type": "code",
   "execution_count": 58,
   "metadata": {
    "tags": []
   },
   "outputs": [],
   "source": [
    "age.remove(1)"
   ]
  },
  {
   "cell_type": "code",
   "execution_count": 59,
   "metadata": {
    "tags": []
   },
   "outputs": [
    {
     "output_type": "stream",
     "name": "stdout",
     "text": "[12, 45, 24, 24, 4, 57, 51, 15, 14, 16, 24, 15, 17, 48, 18, 15, 12, 11, 45, 12, 6, 79, 54, 34, 15, 1]\n"
    }
   ],
   "source": [
    "print(age)"
   ]
  },
  {
   "cell_type": "code",
   "execution_count": 60,
   "metadata": {
    "tags": []
   },
   "outputs": [],
   "source": [
    "age.reverse()"
   ]
  },
  {
   "cell_type": "code",
   "execution_count": 61,
   "metadata": {
    "tags": []
   },
   "outputs": [
    {
     "output_type": "stream",
     "name": "stdout",
     "text": "[1, 15, 34, 54, 79, 6, 12, 45, 11, 12, 15, 18, 48, 17, 15, 24, 16, 14, 15, 51, 57, 4, 24, 24, 45, 12]\n"
    }
   ],
   "source": [
    "print(age)"
   ]
  },
  {
   "cell_type": "code",
   "execution_count": 63,
   "metadata": {
    "tags": []
   },
   "outputs": [
    {
     "output_type": "stream",
     "name": "stdout",
     "text": "[1, 4, 6, 11, 12, 12, 12, 14, 15, 15, 15, 15, 16, 17, 18, 24, 24, 24, 34, 45, 45, 48, 51, 54, 57, 79]\n"
    }
   ],
   "source": [
    "age.sort()\n",
    "print(age)"
   ]
  },
  {
   "cell_type": "markdown",
   "metadata": {},
   "source": [
    "Notice that the _ reverse_, _insert_ and _sort_ methods return a nothing (_None_) not a *list*. They make the change in the list."
   ]
  },
  {
   "cell_type": "code",
   "execution_count": 67,
   "metadata": {},
   "outputs": [
    {
     "output_type": "execute_result",
     "data": {
      "text/plain": "(57, 6)"
     },
     "metadata": {},
     "execution_count": 67
    }
   ],
   "source": [
    "age.pop(),age.pop(1)"
   ]
  },
  {
   "cell_type": "code",
   "execution_count": 70,
   "metadata": {},
   "outputs": [
    {
     "output_type": "execute_result",
     "data": {
      "text/plain": "[]"
     },
     "metadata": {},
     "execution_count": 70
    }
   ],
   "source": [
    "age.clear()\n",
    "age"
   ]
  },
  {
   "cell_type": "markdown",
   "metadata": {},
   "source": [
    "_pop_ and _append_ methods make list easy to use as _stack_, as soon as in a _stack_ object, the last item added is the first removed."
   ]
  },
  {
   "cell_type": "markdown",
   "metadata": {},
   "source": [
    "We can also use _list_ as queue object but it's not very efficient. In a queue object the first item added is the first removed. Using _insert_ and _pop_ to add or remove a item at the front of a list is very slow, because all of the others element have to be shifted.\\\n",
    "\n",
    "We use the _collections_ _deque_ which is designed to have fast _append_ and _pop_ from the both side (tail, start).\n",
    "\n"
   ]
  },
  {
   "cell_type": "code",
   "execution_count": 79,
   "metadata": {},
   "outputs": [
    {
     "output_type": "execute_result",
     "data": {
      "text/plain": "('gamma', 'psi')"
     },
     "metadata": {},
     "execution_count": 79
    }
   ],
   "source": [
    "from collections import deque\n",
    "queue=deque(['alpha','epsilon','lambda','nu','mu','eta','alpha'])\n",
    "queue.append('psi'), queue.appendleft('gamma')\n",
    "queue.popleft(),queue.pop()"
   ]
  },
  {
   "cell_type": "markdown",
   "metadata": {},
   "source": [
    "## List comprehensions"
   ]
  },
  {
   "cell_type": "markdown",
   "metadata": {},
   "source": [
    "List comprehension provide a concise way to create lists. Common applications are to make new lists where each element is the result of some operations  applied to each member of another sequence or iterable, or to create a subsequence of those elements that satisfy a certain condition.\n"
   ]
  },
  {
   "cell_type": "code",
   "execution_count": 44,
   "metadata": {},
   "outputs": [
    {
     "output_type": "execute_result",
     "data": {
      "text/plain": "0.0001697540283203125"
     },
     "metadata": {},
     "execution_count": 44
    }
   ],
   "source": [
    "import time\n",
    "symbols='~$1%£%§?#{[|`^@æë€´ö÷¡×¿'\n",
    "code_asci=list()\n",
    "begin_time=time.time()\n",
    "for elm in symbols:\n",
    "   code_asci.append(ord(elm))\n",
    "end_time=time.time()\n",
    "execution_time=end_time-begin_time\n",
    "execution_time\n",
    "\n"
   ]
  },
  {
   "cell_type": "code",
   "execution_count": 45,
   "metadata": {},
   "outputs": [
    {
     "output_type": "execute_result",
     "data": {
      "text/plain": "0.00019550323486328125"
     },
     "metadata": {},
     "execution_count": 45
    }
   ],
   "source": [
    "begin_time=time.time()\n",
    "code_asci_listcomp=[ord(elm) for elm in symbols]\n",
    "end_time=time.time()\n",
    "execution_time=end_time-begin_time\n",
    "execution_time\n"
   ]
  },
  {
   "cell_type": "code",
   "execution_count": 48,
   "metadata": {},
   "outputs": [
    {
     "output_type": "execute_result",
     "data": {
      "text/plain": "[(0, 1), (0, 2), (1, 0), (1, 2), (2, 0), (2, 1), (3, 0), (3, 1), (3, 2)]"
     },
     "metadata": {},
     "execution_count": 48
    }
   ],
   "source": [
    "coordinate=[(x,y) for x in range(4) for y in range(3) if x!=y]\n",
    "coordinate"
   ]
  },
  {
   "cell_type": "code",
   "execution_count": 50,
   "metadata": {},
   "outputs": [
    {
     "output_type": "execute_result",
     "data": {
      "text/plain": "[(0, 1), (0, 2), (1, 0), (1, 2), (2, 0), (2, 1), (3, 0), (3, 1), (3, 2)]"
     },
     "metadata": {},
     "execution_count": 50
    }
   ],
   "source": [
    "coordinate_loop=[]\n",
    "for x in range(4):\n",
    "    for y in range(3):\n",
    "        if x!=y:\n",
    "            coordinate_loop.append((x,y))\n",
    "coordinate_loop"
   ]
  },
  {
   "cell_type": "code",
   "execution_count": 60,
   "metadata": {},
   "outputs": [
    {
     "output_type": "execute_result",
     "data": {
      "text/plain": "[10, 9, 8, 7, 6, 5, 4, 3, 2, 1]"
     },
     "metadata": {},
     "execution_count": 60
    }
   ],
   "source": [
    "non_postive=list(range(-10,-0,1))\n",
    "non_postive\n",
    "positive=[abs(x) for x in non_postive]\n",
    "positive"
   ]
  },
  {
   "cell_type": "code",
   "execution_count": 61,
   "metadata": {},
   "outputs": [
    {
     "output_type": "execute_result",
     "data": {
      "text/plain": "[3.0,\n 3.1,\n 3.14,\n 3.142,\n 3.1416,\n 3.14159,\n 3.141593,\n 3.1415927,\n 3.14159265,\n 3.141592654,\n 3.1415926536]"
     },
     "metadata": {},
     "execution_count": 61
    }
   ],
   "source": [
    "from math import pi\n",
    "pi_10=[round(pi,d) for d in range(11)]\n",
    "pi_10"
   ]
  },
  {
   "cell_type": "code",
   "execution_count": 66,
   "metadata": {},
   "outputs": [
    {
     "output_type": "execute_result",
     "data": {
      "text/plain": "[[1, 5, 9], [2, 6, 10], [3, 7, 11], [4, 8, 12]]"
     },
     "metadata": {},
     "execution_count": 66
    }
   ],
   "source": [
    "matrix=[[1,2,3,4],[5,6,7,8],[9,10,11,12]]\n",
    "tranposed1=[[row[i] for row in matrix] for i in range(4)]\n",
    "tranposed1\n"
   ]
  },
  {
   "cell_type": "code",
   "execution_count": 67,
   "metadata": {},
   "outputs": [
    {
     "output_type": "execute_result",
     "data": {
      "text/plain": "[[1, 5, 9], [2, 6, 10], [3, 7, 11], [4, 8, 12]]"
     },
     "metadata": {},
     "execution_count": 67
    }
   ],
   "source": [
    "tranposed2=list()\n",
    "for i in range(4):\n",
    "    tranposed2.append([row[i] for row in matrix])\n",
    "tranposed2"
   ]
  },
  {
   "cell_type": "code",
   "execution_count": 72,
   "metadata": {},
   "outputs": [
    {
     "output_type": "execute_result",
     "data": {
      "text/plain": "[[1, 5, 9], [2, 6, 10], [3, 7, 11], [4, 8, 12]]"
     },
     "metadata": {},
     "execution_count": 72
    }
   ],
   "source": [
    "tranposed3=[]\n",
    "for i in range(4):\n",
    "    transposed=[]\n",
    "    for row in matrix:\n",
    "        transposed.append(row[i])\n",
    "    tranposed3.append(transposed)\n",
    "tranposed3"
   ]
  },
  {
   "cell_type": "code",
   "execution_count": null,
   "metadata": {},
   "outputs": [],
   "source": []
  }
 ]
}