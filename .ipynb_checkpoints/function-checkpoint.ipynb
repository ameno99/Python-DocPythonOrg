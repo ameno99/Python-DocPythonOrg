{
 "cells": [
  {
   "cell_type": "markdown",
   "metadata": {},
   "source": [
    "#  Functions "
   ]
  },
  {
   "cell_type": "code",
   "execution_count": null,
   "metadata": {},
   "outputs": [],
   "source": [
    "def fibanocci(n):\n",
    "    a,b=0,1\n",
    "    while a<n:\n",
    "        a,b=b,a+b\n",
    "        print(a,end=\" \")\n"
   ]
  },
  {
   "cell_type": "code",
   "execution_count": 4,
   "metadata": {
    "tags": []
   },
   "outputs": [
    {
     "name": "stdout",
     "output_type": "stream",
     "text": [
      "1 1 2 3 5 8 13"
     ]
    }
   ],
   "source": [
    "fibanocci(10)"
   ]
  },
  {
   "cell_type": "code",
   "execution_count": 10,
   "metadata": {},
   "outputs": [],
   "source": [
    "def fiboncciListe(n):\n",
    "    out=[1,1]\n",
    "    for i in range(n-2):\n",
    "        out.append(out[i]+out[i+1])\n",
    "    return out"
   ]
  },
  {
   "cell_type": "code",
   "execution_count": 11,
   "metadata": {
    "tags": []
   },
   "outputs": [
    {
     "name": "stdout",
     "output_type": "stream",
     "text": [
      "[1, 1, 2, 3, 5, 8, 13, 21, 34, 55]\n"
     ]
    }
   ],
   "source": [
    "print(fiboncciListe(10))"
   ]
  },
  {
   "cell_type": "code",
   "execution_count": 22,
   "metadata": {},
   "outputs": [],
   "source": [
    "def fibonacciRecursive(n):\n",
    "    if n==0 or n==1:\n",
    "        return 1\n",
    "    else:\n",
    "        return fibonacciRecursive(n-1)+fibonacciRecursive(n-2)"
   ]
  },
  {
   "cell_type": "code",
   "execution_count": 26,
   "metadata": {
    "tags": []
   },
   "outputs": [
    {
     "name": "stdout",
     "output_type": "stream",
     "text": [
      "1 1 2 3 5 8 13 21 34 55"
     ]
    }
   ],
   "source": [
    "for n in range(10):\n",
    "    print(fibonacciRecursive(n),end=\" \")"
   ]
  },
  {
   "cell_type": "code",
   "execution_count": 1,
   "metadata": {},
   "outputs": [],
   "source": [
    "def leap_year(year):\n",
    "    \"\"\" This fucntion assess if a given year is a leap year \n",
    "    or not\n",
    "    Arguments:\n",
    "    year (Date) :the year to check\n",
    "    \"\"\"\n",
    "    if year%400==0 or (year%4==0 and year%100!=0):\n",
    "        print(f\"{year} is a leap year\" ) \n",
    "    else:\n",
    "        print(f\" {year} is not a leap year\")\n"
   ]
  },
  {
   "cell_type": "code",
   "execution_count": 5,
   "metadata": {
    "tags": []
   },
   "outputs": [
    {
     "name": "stdout",
     "output_type": "stream",
     "text": [
      "1800 is not a leap year\n",
      "2004 is a leap year\n"
     ]
    }
   ],
   "source": [
    "leap_year(1800);leap_year(2004)"
   ]
  },
  {
   "cell_type": "markdown",
   "metadata": {},
   "source": [
    "## Default arguments values"
   ]
  },
  {
   "cell_type": "markdown",
   "metadata": {},
   "source": [
    "The most useful form is to specify a default value for one or more aguments. This creates function that can be called with fewer arguments than it is defined to allow.\n"
   ]
  },
  {
   "cell_type": "code",
   "execution_count": 3,
   "metadata": {},
   "outputs": [],
   "source": [
    "def adress(name,country='France',city='Le Croisic'):\n",
    "    print(\"Monsieur ou Madame {} vit en \".format(name),country, \"dans la ville de \", city )"
   ]
  },
  {
   "cell_type": "code",
   "execution_count": 4,
   "metadata": {
    "tags": []
   },
   "outputs": [
    {
     "name": "stdout",
     "output_type": "stream",
     "text": [
      "Monsieur ou Madame Cheikh BEYE vit en  France dans la ville de  Le Croisic\n"
     ]
    }
   ],
   "source": [
    "adress(\"Cheikh BEYE\")"
   ]
  },
  {
   "cell_type": "code",
   "execution_count": 6,
   "metadata": {
    "tags": []
   },
   "outputs": [
    {
     "name": "stdout",
     "output_type": "stream",
     "text": [
      "Monsieur ou Madame Ndoye Alioune vit en  France dans la ville de  Le Mans\n"
     ]
    }
   ],
   "source": [
    "adress(\"Ndoye Alioune\",city='Le Mans')"
   ]
  },
  {
   "cell_type": "markdown",
   "metadata": {},
   "source": [
    "The dafault value is evaluted only once. But when the default is a mutable object kind of _list_ or _set_ or _dictionnary_ the defalut can be evaluated more than once."
   ]
  },
  {
   "cell_type": "code",
   "execution_count": 9,
   "metadata": {},
   "outputs": [],
   "source": [
    "def add(elm,L=list()):\n",
    "    L.append(elm)\n",
    "    return L"
   ]
  },
  {
   "cell_type": "code",
   "execution_count": 11,
   "metadata": {
    "tags": []
   },
   "outputs": [
    {
     "name": "stdout",
     "output_type": "stream",
     "text": [
      "[1, 0]\n",
      "[1, 0, 1]\n",
      "[1, 0, 1, 2]\n",
      "[1, 0, 1, 2, 3]\n"
     ]
    }
   ],
   "source": [
    "for i in range(4):\n",
    "    print(add(i))"
   ]
  },
  {
   "cell_type": "markdown",
   "metadata": {},
   "source": [
    "To handlle this we can proceed as follows"
   ]
  },
  {
   "cell_type": "code",
   "execution_count": 13,
   "metadata": {},
   "outputs": [],
   "source": [
    "def add_noIteract(elm,L=None):\n",
    "    if L is None:\n",
    "        L=list()\n",
    "        L.append(elm)\n",
    "    return L\n",
    "        "
   ]
  },
  {
   "cell_type": "code",
   "execution_count": 14,
   "metadata": {
    "tags": []
   },
   "outputs": [
    {
     "name": "stdout",
     "output_type": "stream",
     "text": [
      "[0]\n",
      "[1]\n",
      "[2]\n",
      "[3]\n"
     ]
    }
   ],
   "source": [
    "for i in range(4):\n",
    "    print(add_noIteract(i))"
   ]
  },
  {
   "cell_type": "markdown",
   "metadata": {},
   "source": [
    "## Keyword Arguments\n",
    "Functions can also be called using Keyword arguments of the form _kwarg=value_. For instance, the following function:"
   ]
  },
  {
   "cell_type": "code",
   "execution_count": 2,
   "metadata": {},
   "outputs": [],
   "source": [
    "def parrot(voltage,state='a stiff', action='voom',type='Norwegian'):\n",
    "    print(\"__This a parrot wouldn't\",action,end=' ')\n",
    "    print(\"If you put\",voltage,\"volts through it.\")\n",
    "    print(\"__lovely plumage, the\", type)\n",
    "    print(\"__It's\", state,\"!\")"
   ]
  },
  {
   "cell_type": "markdown",
   "metadata": {},
   "source": [
    "### 1 positionnal argument"
   ]
  },
  {
   "cell_type": "code",
   "execution_count": 6,
   "metadata": {
    "tags": []
   },
   "outputs": [
    {
     "name": "stdout",
     "output_type": "stream",
     "text": [
      "__This a parrot wouldn't voom If you put 1000 volts through it.\n",
      "__lovely plumage, the Norwegian\n",
      "__It's a stiff !\n"
     ]
    }
   ],
   "source": [
    "parrot(1000)"
   ]
  },
  {
   "cell_type": "markdown",
   "metadata": {},
   "source": [
    "### 1 keyword argument"
   ]
  },
  {
   "cell_type": "code",
   "execution_count": 7,
   "metadata": {
    "tags": []
   },
   "outputs": [
    {
     "name": "stdout",
     "output_type": "stream",
     "text": [
      "__This a parrot wouldn't voom If you put 100 volts through it.\n",
      "__lovely plumage, the Norwegian\n",
      "__It's a stiff !\n"
     ]
    }
   ],
   "source": [
    "parrot(voltage=100)"
   ]
  },
  {
   "cell_type": "markdown",
   "metadata": {},
   "source": [
    "### 2 keyword arguments"
   ]
  },
  {
   "cell_type": "code",
   "execution_count": 8,
   "metadata": {
    "tags": []
   },
   "outputs": [
    {
     "name": "stdout",
     "output_type": "stream",
     "text": [
      "__This a parrot wouldn't VOOOOM If you put 10000 volts through it.\n",
      "__lovely plumage, the Norwegian\n",
      "__It's a stiff !\n"
     ]
    }
   ],
   "source": [
    "parrot(voltage=10000,action='VOOOOM')"
   ]
  },
  {
   "cell_type": "markdown",
   "metadata": {},
   "source": [
    "### 2 keyword arguments"
   ]
  },
  {
   "cell_type": "code",
   "execution_count": 9,
   "metadata": {
    "tags": []
   },
   "outputs": [
    {
     "name": "stdout",
     "output_type": "stream",
     "text": [
      "__This a parrot wouldn't VOOOOOM If you put 100000 volts through it.\n",
      "__lovely plumage, the Norwegian\n",
      "__It's a stiff !\n"
     ]
    }
   ],
   "source": [
    "parrot(action='VOOOOOM',voltage=100000)"
   ]
  },
  {
   "cell_type": "markdown",
   "metadata": {},
   "source": [
    "### 3 positionnal arguments"
   ]
  },
  {
   "cell_type": "code",
   "execution_count": 10,
   "metadata": {
    "tags": []
   },
   "outputs": [
    {
     "name": "stdout",
     "output_type": "stream",
     "text": [
      "__This a parrot wouldn't jump If you put a million volts through it.\n",
      "__lovely plumage, the Norwegian\n",
      "__It's berefit of life !\n"
     ]
    }
   ],
   "source": [
    "parrot('a million', 'berefit of life','jump')"
   ]
  },
  {
   "cell_type": "markdown",
   "metadata": {},
   "source": [
    "### 1 positionnal argument and 1 keyword argument"
   ]
  },
  {
   "cell_type": "code",
   "execution_count": 11,
   "metadata": {
    "tags": []
   },
   "outputs": [
    {
     "name": "stdout",
     "output_type": "stream",
     "text": [
      "__This a parrot wouldn't voom If you put a thousand volts through it.\n",
      "__lovely plumage, the Norwegian\n",
      "__It's pushing up the daisies !\n"
     ]
    }
   ],
   "source": [
    "parrot('a thousand',state='pushing up the daisies')"
   ]
  },
  {
   "cell_type": "markdown",
   "metadata": {},
   "source": [
    "In functionnal call, keyword arguments must follow positionnal arguments. All the keyword arguments passed must match one of the arguments accepted by the fucntion and the order is not important. This also includes non-optionnal arguments. No argument may receive a value more than once."
   ]
  },
  {
   "cell_type": "markdown",
   "metadata": {},
   "source": [
    "When a final formal parameter of the form _name**_ is present, it receives a dictionnary containing all keyword arguments except for those corresponding to a formal parameter. This may be combined with a formal parameter of the form _name*_ which receives a tuple containing the postionnal arguments beyond the fomal parameter list."
   ]
  },
  {
   "cell_type": "code",
   "execution_count": 6,
   "metadata": {},
   "outputs": [],
   "source": [
    "def cheeseshop(kind, *arguments, **keyword):\n",
    "    print(\"--Do you have any\",kind, \" ?\")\n",
    "    print(\"--I'm sorry, we are all out of\",kind)\n",
    "    for arg in arguments:\n",
    "        print(arg)\n",
    "    print(\"--\"*40)\n",
    "    for kw in keyword:\n",
    "        print(kw, \":\",keyword[kw])\n"
   ]
  },
  {
   "cell_type": "code",
   "execution_count": 7,
   "metadata": {
    "tags": []
   },
   "outputs": [
    {
     "name": "stdout",
     "output_type": "stream",
     "text": [
      "--Do you have any Limburger  ?\n",
      "--I'm sorry, we are all out of Limburger\n",
      "It's very runny, sir.\n",
      "It's really very VERY runny, sir.\n",
      "--------------------------------------------------------------------------------\n",
      "shopkeeper : Micheal More\n",
      "cleint : Arame\n",
      "sketch : Cheese shop sketch\n"
     ]
    }
   ],
   "source": [
    "cheeseshop(\"Limburger\",\"It's very runny, sir.\",\n",
    "            \"It's really very VERY runny, sir.\",\n",
    "            shopkeeper=\"Micheal More\",\n",
    "            cleint=\"Arame\",\n",
    "            sketch=\"Cheese shop sketch\"\n",
    "            )"
   ]
  },
  {
   "cell_type": "markdown",
   "metadata": {},
   "source": [
    "By default, arguments may be passed to a python function either by position or explicitly by keyword. For reability and performance, it makes sense to restrict the way arguments can be passed so that a developer need only look at the function definition to determine if items are passed by position or keyword.\n",
    "We use  _/_ and _*_ to indicate the kind of parameter by how the arguments may be passed to the function: position-only, positional-or-keyword, and keyword-only. keyword parameter are also refered to as named parameter."
   ]
  },
  {
   "cell_type": "code",
   "execution_count": 3,
   "metadata": {
    "tags": []
   },
   "outputs": [],
   "source": [
    "def position_only(arg, /):\n",
    "    print('Hello' ,arg)"
   ]
  },
  {
   "cell_type": "markdown",
   "metadata": {},
   "source": [
    "## Call with a postion-only argument"
   ]
  },
  {
   "cell_type": "code",
   "execution_count": 4,
   "metadata": {
    "tags": []
   },
   "outputs": [
    {
     "name": "stdout",
     "output_type": "stream",
     "text": [
      "Hello Cheikh\n"
     ]
    }
   ],
   "source": [
    "position_only('Cheikh')"
   ]
  },
  {
   "cell_type": "markdown",
   "metadata": {},
   "source": [
    "## Call with a keyword agument"
   ]
  },
  {
   "cell_type": "code",
   "execution_count": 7,
   "metadata": {},
   "outputs": [
    {
     "ename": "TypeError",
     "evalue": "position_only() got some positional-only arguments passed as keyword arguments: 'arg'",
     "output_type": "error",
     "traceback": [
      "\u001b[0;31m---------------------------------------------------------------------------\u001b[0m",
      "\u001b[0;31mTypeError\u001b[0m                                 Traceback (most recent call last)",
      "\u001b[0;32m<ipython-input-7-c879fa889a2a>\u001b[0m in \u001b[0;36m<module>\u001b[0;34m\u001b[0m\n\u001b[0;32m----> 1\u001b[0;31m \u001b[0mposition_only\u001b[0m\u001b[0;34m(\u001b[0m\u001b[0marg\u001b[0m\u001b[0;34m=\u001b[0m\u001b[0;34m'Cheikh'\u001b[0m\u001b[0;34m)\u001b[0m\u001b[0;34m\u001b[0m\u001b[0;34m\u001b[0m\u001b[0m\n\u001b[0m",
      "\u001b[0;31mTypeError\u001b[0m: position_only() got some positional-only arguments passed as keyword arguments: 'arg'"
     ]
    }
   ],
   "source": [
    "position_only(arg='Cheikh')"
   ]
  },
  {
   "cell_type": "markdown",
   "metadata": {},
   "source": [
    "As expected the call with a keyword argument is not allowed."
   ]
  },
  {
   "cell_type": "markdown",
   "metadata": {},
   "source": [
    "If positional-only, the parameters' oreder matters. Positional-only the parameters are placed before a / (forward-slash). The / is used to logically separate the positional-only from the rest of the parameters. If there is no / in the fucntion definition,there are no positional-only parameters."
   ]
  },
  {
   "cell_type": "code",
   "execution_count": 13,
   "metadata": {},
   "outputs": [],
   "source": [
    "def keyword_only(*, arg):\n",
    "    print('Hello', arg)\n"
   ]
  },
  {
   "cell_type": "markdown",
   "metadata": {},
   "source": [
    "## Call with a keyword agument"
   ]
  },
  {
   "cell_type": "code",
   "execution_count": 16,
   "metadata": {
    "tags": []
   },
   "outputs": [
    {
     "name": "stdout",
     "output_type": "stream",
     "text": [
      "Hello Cheikh\n"
     ]
    }
   ],
   "source": [
    "keyword_only(arg='Cheikh')"
   ]
  },
  {
   "cell_type": "markdown",
   "metadata": {},
   "source": [
    "## Call with positional-only argument"
   ]
  },
  {
   "cell_type": "code",
   "execution_count": 17,
   "metadata": {},
   "outputs": [
    {
     "ename": "TypeError",
     "evalue": "keyword_only() takes 0 positional arguments but 1 was given",
     "output_type": "error",
     "traceback": [
      "\u001b[0;31m---------------------------------------------------------------------------\u001b[0m",
      "\u001b[0;31mTypeError\u001b[0m                                 Traceback (most recent call last)",
      "\u001b[0;32m<ipython-input-17-a7fb002d5892>\u001b[0m in \u001b[0;36m<module>\u001b[0;34m\u001b[0m\n\u001b[0;32m----> 1\u001b[0;31m \u001b[0mkeyword_only\u001b[0m\u001b[0;34m(\u001b[0m\u001b[0;34m'Cheikh'\u001b[0m\u001b[0;34m)\u001b[0m\u001b[0;34m\u001b[0m\u001b[0;34m\u001b[0m\u001b[0m\n\u001b[0m",
      "\u001b[0;31mTypeError\u001b[0m: keyword_only() takes 0 positional arguments but 1 was given"
     ]
    }
   ],
   "source": [
    "keyword_only('Cheikh')"
   ]
  },
  {
   "cell_type": "markdown",
   "metadata": {},
   "source": [
    "As expected the keyword argument is not allowed."
   ]
  },
  {
   "cell_type": "code",
   "execution_count": 29,
   "metadata": {},
   "outputs": [],
   "source": [
    "def combine_argument(arg1,arg3, /,*,arg2):\n",
    "    print('Hello mister {} {} '.format(arg1,arg2), 'Your room is the {}'.format(arg3))\n",
    "    "
   ]
  },
  {
   "cell_type": "code",
   "execution_count": 30,
   "metadata": {
    "tags": []
   },
   "outputs": [
    {
     "name": "stdout",
     "output_type": "stream",
     "text": [
      "Hello mister Cheikh BEYE  Your room is the 243\n"
     ]
    }
   ],
   "source": [
    "combine_argument(\"Cheikh\",243, arg2=\"BEYE\")"
   ]
  },
  {
   "cell_type": "markdown",
   "metadata": {},
   "source": [
    "Notice that a keyword argument must allways follow a positional one."
   ]
  },
  {
   "cell_type": "code",
   "execution_count": 31,
   "metadata": {},
   "outputs": [
    {
     "ename": "SyntaxError",
     "evalue": "positional argument follows keyword argument (<ipython-input-31-7e74246d4590>, line 1)",
     "output_type": "error",
     "traceback": [
      "\u001b[0;36m  File \u001b[0;32m\"<ipython-input-31-7e74246d4590>\"\u001b[0;36m, line \u001b[0;32m1\u001b[0m\n\u001b[0;31m    combine_argument(\"Arame\",arg2='FALL',342)\u001b[0m\n\u001b[0m                                         ^\u001b[0m\n\u001b[0;31mSyntaxError\u001b[0m\u001b[0;31m:\u001b[0m positional argument follows keyword argument\n"
     ]
    }
   ],
   "source": [
    "combine_argument(\"Arame\",arg2='FALL',342)"
   ]
  },
  {
   "cell_type": "markdown",
   "metadata": {},
   "source": [
    "## Collision between arguments"
   ]
  },
  {
   "cell_type": "code",
   "execution_count": 1,
   "metadata": {},
   "outputs": [
    {
     "ename": "TypeError",
     "evalue": "collision() got multiple values for argument 'name'",
     "output_type": "error",
     "traceback": [
      "\u001b[0;31m---------------------------------------------------------------------------\u001b[0m",
      "\u001b[0;31mTypeError\u001b[0m                                 Traceback (most recent call last)",
      "\u001b[0;32m<ipython-input-1-b037f0e1308c>\u001b[0m in \u001b[0;36m<module>\u001b[0;34m\u001b[0m\n\u001b[1;32m      1\u001b[0m \u001b[0;32mdef\u001b[0m \u001b[0mcollision\u001b[0m\u001b[0;34m(\u001b[0m\u001b[0mname\u001b[0m\u001b[0;34m,\u001b[0m \u001b[0;34m**\u001b[0m\u001b[0marg\u001b[0m\u001b[0;34m)\u001b[0m\u001b[0;34m:\u001b[0m\u001b[0;34m\u001b[0m\u001b[0;34m\u001b[0m\u001b[0m\n\u001b[1;32m      2\u001b[0m     \u001b[0;32mreturn\u001b[0m \u001b[0;34m'name'\u001b[0m \u001b[0;32min\u001b[0m \u001b[0marg\u001b[0m\u001b[0;34m\u001b[0m\u001b[0;34m\u001b[0m\u001b[0m\n\u001b[0;32m----> 3\u001b[0;31m \u001b[0mcollision\u001b[0m\u001b[0;34m(\u001b[0m\u001b[0;34m'Cheikh'\u001b[0m\u001b[0;34m,\u001b[0m \u001b[0mname\u001b[0m\u001b[0;34m=\u001b[0m\u001b[0;34m'Nulll'\u001b[0m\u001b[0;34m)\u001b[0m\u001b[0;34m\u001b[0m\u001b[0;34m\u001b[0m\u001b[0m\n\u001b[0m",
      "\u001b[0;31mTypeError\u001b[0m: collision() got multiple values for argument 'name'"
     ]
    }
   ],
   "source": [
    "def collision(name, **arg):\n",
    "    return 'name' in arg\n",
    "collision('Cheikh', name='Nulll')"
   ]
  },
  {
   "cell_type": "markdown",
   "metadata": {},
   "source": [
    "Int this case we got a collision between the positional argument _name_ and _**arg_. To handlle this we can use _name_ as a positional-only argument, so the machine will be able to distinguish _name_ as _keyword argument_ from _name_ as *postional_only argument*"
   ]
  },
  {
   "cell_type": "code",
   "execution_count": 6,
   "metadata": {},
   "outputs": [],
   "source": [
    "def collision_handlled(name, /, **key):\n",
    "    return 'name' in key"
   ]
  },
  {
   "cell_type": "code",
   "execution_count": 8,
   "metadata": {},
   "outputs": [
    {
     "data": {
      "text/plain": [
       "(True, False)"
      ]
     },
     "execution_count": 8,
     "metadata": {},
     "output_type": "execute_result"
    }
   ],
   "source": [
    "collision_handlled('Cheikh', name='Alioune'),collision_handlled(1,arg=1)"
   ]
  },
  {
   "cell_type": "markdown",
   "metadata": {},
   "source": [
    "It means that a name of a positional-only argument can be used in _**key_."
   ]
  },
  {
   "cell_type": "markdown",
   "metadata": {},
   "source": [
    "We can also use function with arbitrary numbers of arguments. "
   ]
  },
  {
   "cell_type": "code",
   "execution_count": 19,
   "metadata": {},
   "outputs": [],
   "source": [
    "def conacatenation(*arg, sep=''):\n",
    "    return sep.join(arg)\n",
    "    "
   ]
  },
  {
   "cell_type": "code",
   "execution_count": 20,
   "metadata": {},
   "outputs": [
    {
     "data": {
      "text/plain": [
       "'CheikhArameNogayeThierno'"
      ]
     },
     "execution_count": 20,
     "metadata": {},
     "output_type": "execute_result"
    }
   ],
   "source": [
    "conacatenation(\"Cheikh\", \"Arame\",\"Nogaye\",\"Thierno\")"
   ]
  },
  {
   "cell_type": "code",
   "execution_count": 21,
   "metadata": {},
   "outputs": [
    {
     "data": {
      "text/plain": [
       "'Cheikh Arame Nogaye Thierno'"
      ]
     },
     "execution_count": 21,
     "metadata": {},
     "output_type": "execute_result"
    }
   ],
   "source": [
    "conacatenation(\"Cheikh\", \"Arame\",\"Nogaye\",\"Thierno\",sep=' ')"
   ]
  },
  {
   "cell_type": "markdown",
   "metadata": {},
   "source": [
    "**Notice** any formal parameters after the _*arg_ can only be keyword arguments.\n"
   ]
  },
  {
   "cell_type": "markdown",
   "metadata": {},
   "source": [
    "## Unpacking arugment lists"
   ]
  },
  {
   "cell_type": "markdown",
   "metadata": {},
   "source": [
    "The reverse situation occurs when the arguments are already in a list or a tuple but need to be unpacked for a function call requiring separate positional arguments. Example the function _range_ call expects separate _start_ and _stop_ arguments. If they are not avalaible separately, we can use the * operator to unpack the arguments.\n"
   ]
  },
  {
   "cell_type": "code",
   "execution_count": 30,
   "metadata": {},
   "outputs": [
    {
     "ename": "TypeError",
     "evalue": "'list' object cannot be interpreted as an integer",
     "output_type": "error",
     "traceback": [
      "\u001b[0;31m---------------------------------------------------------------------------\u001b[0m",
      "\u001b[0;31mTypeError\u001b[0m                                 Traceback (most recent call last)",
      "\u001b[0;32m<ipython-input-30-9b006e993e50>\u001b[0m in \u001b[0;36m<module>\u001b[0;34m\u001b[0m\n\u001b[1;32m      1\u001b[0m \u001b[0marg\u001b[0m\u001b[0;34m=\u001b[0m\u001b[0;34m[\u001b[0m\u001b[0;36m2\u001b[0m\u001b[0;34m,\u001b[0m\u001b[0;36m9\u001b[0m\u001b[0;34m]\u001b[0m\u001b[0;34m\u001b[0m\u001b[0;34m\u001b[0m\u001b[0m\n\u001b[1;32m      2\u001b[0m \u001b[0margbis\u001b[0m\u001b[0;34m=\u001b[0m\u001b[0;36m4\u001b[0m\u001b[0;34m,\u001b[0m\u001b[0;36m10\u001b[0m\u001b[0;34m\u001b[0m\u001b[0;34m\u001b[0m\u001b[0m\n\u001b[0;32m----> 3\u001b[0;31m \u001b[0mlist\u001b[0m\u001b[0;34m(\u001b[0m\u001b[0mrange\u001b[0m\u001b[0;34m(\u001b[0m\u001b[0marg\u001b[0m\u001b[0;34m)\u001b[0m\u001b[0;34m)\u001b[0m\u001b[0;34m\u001b[0m\u001b[0;34m\u001b[0m\u001b[0m\n\u001b[0m",
      "\u001b[0;31mTypeError\u001b[0m: 'list' object cannot be interpreted as an integer"
     ]
    }
   ],
   "source": [
    "arg=[2,9]\n",
    "argbis=4,10\n",
    "list(range(arg))"
   ]
  },
  {
   "cell_type": "code",
   "execution_count": 28,
   "metadata": {},
   "outputs": [
    {
     "data": {
      "text/plain": [
       "[2, 3, 4, 5, 6, 7, 8]"
      ]
     },
     "execution_count": 28,
     "metadata": {},
     "output_type": "execute_result"
    }
   ],
   "source": [
    "list(range(*arg))"
   ]
  },
  {
   "cell_type": "code",
   "execution_count": 31,
   "metadata": {},
   "outputs": [
    {
     "data": {
      "text/plain": [
       "[4, 5, 6, 7, 8, 9]"
      ]
     },
     "execution_count": 31,
     "metadata": {},
     "output_type": "execute_result"
    }
   ],
   "source": [
    "list(range(*argbis))"
   ]
  },
  {
   "cell_type": "markdown",
   "metadata": {},
   "source": [
    "## Lambda expressions"
   ]
  },
  {
   "cell_type": "markdown",
   "metadata": {},
   "source": [
    "Smalla nonymous fucntion can be created with the _lambda_ keyword. This fucntion retruns the sum of its two arguments: _lambda a, b: a+b_. Lambda fucntion can be used wherever fucntion objects are required.\n",
    "  "
   ]
  },
  {
   "cell_type": "code",
   "execution_count": 6,
   "metadata": {},
   "outputs": [
    {
     "data": {
      "text/plain": [
       "12"
      ]
     },
     "execution_count": 6,
     "metadata": {},
     "output_type": "execute_result"
    }
   ],
   "source": [
    "sum_lambda=lambda a,b: a+b\n",
    "sum_lambda(2,10)"
   ]
  },
  {
   "cell_type": "code",
   "execution_count": null,
   "metadata": {},
   "outputs": [],
   "source": []
  }
 ],
 "metadata": {
  "kernelspec": {
   "display_name": "Python 3",
   "language": "python",
   "name": "python3"
  },
  "language_info": {
   "codemirror_mode": {
    "name": "ipython",
    "version": 3
   },
   "file_extension": ".py",
   "mimetype": "text/x-python",
   "name": "python",
   "nbconvert_exporter": "python",
   "pygments_lexer": "ipython3",
   "version": "3.6.9"
  }
 },
 "nbformat": 4,
 "nbformat_minor": 2
}
