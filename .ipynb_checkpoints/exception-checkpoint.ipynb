{
 "cells": [
  {
   "cell_type": "markdown",
   "metadata": {},
   "source": [
    "# EXCEPTION HANDLING"
   ]
  },
  {
   "cell_type": "markdown",
   "metadata": {},
   "source": [
    "Exception are unexpected events that occurs during the execution of a program. An exception might result from a logical error or an unanticipated situation. In Python, exceptions (also known as errors) are objects that are raised (or thrown) by code that encounters an unexpected circumstance. The python interpreter can also raise an exception should it encounter an unexcepted condition, like running out of memory. A  raised error may be caught by a surrounding context that _handlles_ the exception in an appropriate fashion. If uncaught, an exception causes the interpreter to stop executing the program and to repport an appropriate message to the console .\n",
    "\n",
    "## Common exception Type\n",
    "\n",
    "| Class  | Descpription |\n",
    "|---|---| \n",
    "| Exception | a base class for most error types |\n",
    "| AttributeError | Raised by syntax _obj.foo_, if object _foo_ has no attribute named _foo_ | \n",
    "| EOFError | Raised if _end of file_ reached for console or file input.\n",
    "| IOError | Raised upon failure of I//O  operation (e.g opening) |\n",
    "| IndexError | Raised if index to sequnce is out of bounds |\n",
    "| KeyError | Raised if nonexistent key requested for set or dictionnary |\n",
    "| KeyboardInterrupt | Raised if user types ctrl-C while program is executing |\n",
    "| NameError | Raised if not nonexistent identifier used |\n",
    "| StopIterion | Raised by next(iterator) if no element |\n",
    "| TypeError | Raised when wrong type of parameter is sent to a function |\n",
    "| ValueError | Raised when wrong type of parameter has invalid value |\n",
    "|ZeroDivisorError | Raised when any division operator used with 0 as divisor |"
   ]
  },
  {
   "cell_type": "code",
   "execution_count": null,
   "metadata": {},
   "outputs": [],
   "source": []
  }
 ],
 "metadata": {
  "kernelspec": {
   "display_name": "Python 3",
   "language": "python",
   "name": "python3"
  },
  "language_info": {
   "codemirror_mode": {
    "name": "ipython",
    "version": 3
   },
   "file_extension": ".py",
   "mimetype": "text/x-python",
   "name": "python",
   "nbconvert_exporter": "python",
   "pygments_lexer": "ipython3",
   "version": "3.6.9"
  }
 },
 "nbformat": 4,
 "nbformat_minor": 2
}
