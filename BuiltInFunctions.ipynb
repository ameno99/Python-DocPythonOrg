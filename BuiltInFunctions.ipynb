{
 "metadata": {
  "language_info": {
   "codemirror_mode": {
    "name": "ipython",
    "version": 3
   },
   "file_extension": ".py",
   "mimetype": "text/x-python",
   "name": "python",
   "nbconvert_exporter": "python",
   "pygments_lexer": "ipython3",
   "version": "3.8.0-final"
  },
  "orig_nbformat": 2,
  "kernelspec": {
   "name": "python3",
   "display_name": "Python 3"
  }
 },
 "nbformat": 4,
 "nbformat_minor": 2,
 "cells": [
  {
   "cell_type": "markdown",
   "metadata": {},
   "source": [
    "## _abs(x)_\n",
    "\n",
    "return the absolute value of a number. The argument _x_ may be an integer or a floating point number. If the argument is complex its magnitude is returned. "
   ]
  },
  {
   "cell_type": "code",
   "execution_count": 1,
   "metadata": {},
   "outputs": [
    {
     "output_type": "execute_result",
     "data": {
      "text/plain": "(2, 5.89)"
     },
     "metadata": {},
     "execution_count": 1
    }
   ],
   "source": [
    " abs(-2),abs(-5.89)                                                                                                                                                                                                                                                                        "
   ]
  },
  {
   "cell_type": "code",
   "execution_count": 6,
   "metadata": {},
   "outputs": [
    {
     "output_type": "execute_result",
     "data": {
      "text/plain": "2.0"
     },
     "metadata": {},
     "execution_count": 6
    }
   ],
   "source": [
    "abs(complex(0,2))"
   ]
  },
  {
   "cell_type": "markdown",
   "metadata": {},
   "source": [
    "## _all(iterable)_  \n",
    "\n",
    "Return _True_ if all elements of the iterable are true (or if the iterable is empty)."
   ]
  },
  {
   "cell_type": "code",
   "execution_count": 18,
   "metadata": {},
   "outputs": [
    {
     "output_type": "execute_result",
     "data": {
      "text/plain": "(True, False)"
     },
     "metadata": {},
     "execution_count": 18
    }
   ],
   "source": [
    "all(range(1,8)),all(range(8))"
   ]
  },
  {
   "cell_type": "code",
   "execution_count": 33,
   "metadata": {},
   "outputs": [
    {
     "output_type": "execute_result",
     "data": {
      "text/plain": "(False, True)"
     },
     "metadata": {},
     "execution_count": 33
    }
   ],
   "source": [
    "liste=list(range(20))\n",
    "evennumber=[(x,x%2==0) for x in liste]\n",
    "all(evennumber[0]),any(evennumber[0])"
   ]
  },
  {
   "cell_type": "markdown",
   "metadata": {},
   "source": [
    "## _any(iterable)_\n",
    "\n",
    "Return _True_ if any element of the iterable is true. If the iterable is empty"
   ]
  },
  {
   "cell_type": "markdown",
   "metadata": {},
   "source": [
    "## _ascii(obeject)_\n",
    "\n",
    "\n",
    "As _repr()_ return a string containing a printable representation of an object, but escape the non-ASCII characters in the string returned by _repr()_ using \\\\x, \\\\u or \\\\U."
   ]
  },
  {
   "cell_type": "code",
   "execution_count": 34,
   "metadata": {},
   "outputs": [
    {
     "output_type": "execute_result",
     "data": {
      "text/plain": "\"'\\\\xf9\\\\xf9$$e'\""
     },
     "metadata": {},
     "execution_count": 34
    }
   ],
   "source": [
    "ascii('ùù$$e')"
   ]
  },
  {
   "cell_type": "markdown",
   "metadata": {},
   "source": [
    "## _bin(x)_ \n",
    "\n",
    "\n",
    "Convert a integer number to a binary string prefixed with _0b_  "
   ]
  },
  {
   "cell_type": "code",
   "execution_count": 36,
   "metadata": {},
   "outputs": [
    {
     "output_type": "execute_result",
     "data": {
      "text/plain": "('0b1010', '1010')"
     },
     "metadata": {},
     "execution_count": 36
    }
   ],
   "source": [
    "bin(10),format(10,'b')"
   ]
  },
  {
   "cell_type": "markdown",
   "metadata": {},
   "source": [
    "We use the format function to escape the prefix _0b_. Notice than _bin(x)_ is equivalent to _format(x,'#b')_."
   ]
  },
  {
   "cell_type": "code",
   "execution_count": 38,
   "metadata": {},
   "outputs": [
    {
     "output_type": "execute_result",
     "data": {
      "text/plain": "True"
     },
     "metadata": {},
     "execution_count": 38
    }
   ],
   "source": [
    "format(12,'#b')==bin(12)"
   ]
  },
  {
   "cell_type": "markdown",
   "metadata": {},
   "source": [
    "## _class_ bool(\\[x\\])_class_\n",
    "\n",
    "Return a boolean value. If _x_ is _False_ or omitted it returns _False_; otherwise it returns _True_."
   ]
  },
  {
   "cell_type": "code",
   "execution_count": 43,
   "metadata": {},
   "outputs": [
    {
     "output_type": "execute_result",
     "data": {
      "text/plain": "(False, False, True)"
     },
     "metadata": {},
     "execution_count": 43
    }
   ],
   "source": [
    "bool('Hello'=='Helllo'),bool(),bool(0<99)"
   ]
  },
  {
   "cell_type": "markdown",
   "metadata": {},
   "source": [
    "## _callable(object)_\n",
    "\n",
    "Return _True_ if the object argument is a callable, _False_ if not. If this returns _True_ it is possible that call fails, but if it is _False_, calling object will never succed.\n",
    "\n",
    "\n",
    "\n",
    "\n",
    "\n",
    "\n",
    "\n",
    "\n",
    "\n",
    "\n",
    "\n",
    "\n",
    "\n",
    "\n",
    "\n",
    "\n",
    "\n",
    "\n",
    "\n",
    "\n",
    "\n",
    "\n",
    "\n",
    "\n"
   ]
  },
  {
   "cell_type": "markdown",
   "metadata": {},
   "source": [
    "## _chr(i)_\n",
    "Return the string representing a character whose Unicode code point is the integer i. For example, chr(97) returns the string 'a', while chr(8364) returns the string '€'. This is the inverse of ord().\n",
    "\n"
   ]
  },
  {
   "cell_type": "code",
   "execution_count": 45,
   "metadata": {},
   "outputs": [
    {
     "output_type": "execute_result",
     "data": {
      "text/plain": "('a', '€')"
     },
     "metadata": {},
     "execution_count": 45
    }
   ],
   "source": [
    "chr(97),chr(8364)"
   ]
  },
  {
   "cell_type": "markdown",
   "metadata": {},
   "source": [
    "## _class_ _complex(\\[real\\[, imag\\]\\])_\n",
    "Return a complex number with the value real + imag*1j or convert a string or number to a complex number. If the first parameter is a string, it will be interpreted as a complex number and the function must be called without a second parameter. The second parameter can never be a string. Each argument may be any numeric type (including complex). If imag is omitted, it defaults to zero and the constructor serves as a numeric conversion like int and float. If both arguments are omitted, returns 0j."
   ]
  },
  {
   "cell_type": "markdown",
   "metadata": {},
   "source": [
    "## _delattr(object, name)_\n",
    "This is a relative of _setattr()_. The arguments are an object and a string. The string must be the name of one of the object’s attributes. The function deletes the named attribute, provided the object allows it. For example, delattr(x, 'foobar') is equivalent to del x.foobar."
   ]
  },
  {
   "cell_type": "markdown",
   "metadata": {},
   "source": [
    "##  _divmod(a, b)_\n",
    "Take two (non complex) numbers as arguments and return a pair of numbers consisting of their quotient and remainder when using integer division. With mixed operand types, the rules for binary arithmetic operators apply. For integers, the result is the same as (a // b, a % b). For floating point numbers the result is (q, a % b), where q is usually math.floor(a / b) but may be 1 less than that. In any case q * b + a % b is very close to a, if a % b is non-zero it has the same sign as b, and 0 <= abs(a % b) < abs(b)."
   ]
  },
  {
   "cell_type": "code",
   "execution_count": 50,
   "metadata": {},
   "outputs": [
    {
     "output_type": "execute_result",
     "data": {
      "text/plain": "((2, 0), (1, 5), (4.0, 1.5))"
     },
     "metadata": {},
     "execution_count": 50
    }
   ],
   "source": [
    "divmod(4,2),divmod(12,7),divmod(9.5,2)"
   ]
  },
  {
   "cell_type": "markdown",
   "metadata": {},
   "source": [
    "## _enumerate(iterable, start=0)_\n",
    "Return an enumerate object. iterable must be a sequence, an iterator, or some other object which supports iteration. The __next__() method of the iterator returned by enumerate() returns a tuple containing a count (from start which defaults to 0) and the values obtained from iterating over iterable."
   ]
  },
  {
   "cell_type": "code",
   "execution_count": 53,
   "metadata": {},
   "outputs": [
    {
     "output_type": "execute_result",
     "data": {
      "text/plain": "[(0, 'Spring'), (1, 'Summer'), (2, 'Fall'), (3, 'Winter')]"
     },
     "metadata": {},
     "execution_count": 53
    }
   ],
   "source": [
    "seasons = ['Spring', 'Summer', 'Fall', 'Winter']\n",
    "season=[*enumerate(seasons,start=0)]\n",
    "season"
   ]
  },
  {
   "cell_type": "code",
   "execution_count": 55,
   "metadata": {},
   "outputs": [
    {
     "output_type": "execute_result",
     "data": {
      "text/plain": "[(1, 'Spring'), (2, 'Summer'), (3, 'Fall'), (4, 'Winter')]"
     },
     "metadata": {},
     "execution_count": 55
    }
   ],
   "source": [
    "seasontwice=list(enumerate(seasons,start=1))\n",
    "seasontwice"
   ]
  },
  {
   "cell_type": "markdown",
   "metadata": {
    "tags": []
   },
   "source": [
    "## _eval(source, globals=None, locals=None, /)_\n",
    "    Evaluate the given source in the context of globals and locals.\n",
    "    \n",
    "    The source may be a string representing a Python expression\n",
    "    or a code object as returned by compile().\n",
    "    The globals must be a dictionary and locals can be any mapping,\n",
    "    defaulting to the current globals and locals.\n",
    "    If only globals is given, locals defaults to it.\n"
   ]
  },
  {
   "cell_type": "code",
   "execution_count": null,
   "metadata": {},
   "outputs": [],
   "source": []
  }
 ]
}